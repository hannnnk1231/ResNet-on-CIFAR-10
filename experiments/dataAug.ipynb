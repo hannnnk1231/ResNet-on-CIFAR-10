{
  "nbformat": 4,
  "nbformat_minor": 0,
  "metadata": {
    "colab": {
      "provenance": []
    },
    "kernelspec": {
      "name": "python3",
      "display_name": "Python 3"
    },
    "language_info": {
      "name": "python"
    },
    "gpuClass": "standard",
    "accelerator": "GPU",
    "widgets": {
      "application/vnd.jupyter.widget-state+json": {
        "60e85b4346e1467a88d0dc7c8ccc9aec": {
          "model_module": "@jupyter-widgets/controls",
          "model_name": "HBoxModel",
          "model_module_version": "1.5.0",
          "state": {
            "_dom_classes": [],
            "_model_module": "@jupyter-widgets/controls",
            "_model_module_version": "1.5.0",
            "_model_name": "HBoxModel",
            "_view_count": null,
            "_view_module": "@jupyter-widgets/controls",
            "_view_module_version": "1.5.0",
            "_view_name": "HBoxView",
            "box_style": "",
            "children": [
              "IPY_MODEL_46db2301426a42e696dd034cf3e9f9e7",
              "IPY_MODEL_53554086b90b44f182e160c855d6d9f8",
              "IPY_MODEL_75c69d01c18b4711b20e4836a37debd2"
            ],
            "layout": "IPY_MODEL_94df3017105a42ec942ecda3ca837f1d"
          }
        },
        "46db2301426a42e696dd034cf3e9f9e7": {
          "model_module": "@jupyter-widgets/controls",
          "model_name": "HTMLModel",
          "model_module_version": "1.5.0",
          "state": {
            "_dom_classes": [],
            "_model_module": "@jupyter-widgets/controls",
            "_model_module_version": "1.5.0",
            "_model_name": "HTMLModel",
            "_view_count": null,
            "_view_module": "@jupyter-widgets/controls",
            "_view_module_version": "1.5.0",
            "_view_name": "HTMLView",
            "description": "",
            "description_tooltip": null,
            "layout": "IPY_MODEL_a991e7de664c408f89f2e5243e540178",
            "placeholder": "​",
            "style": "IPY_MODEL_6e7a8bb354124c91a65bd3fbbfd144b0",
            "value": "100%"
          }
        },
        "53554086b90b44f182e160c855d6d9f8": {
          "model_module": "@jupyter-widgets/controls",
          "model_name": "FloatProgressModel",
          "model_module_version": "1.5.0",
          "state": {
            "_dom_classes": [],
            "_model_module": "@jupyter-widgets/controls",
            "_model_module_version": "1.5.0",
            "_model_name": "FloatProgressModel",
            "_view_count": null,
            "_view_module": "@jupyter-widgets/controls",
            "_view_module_version": "1.5.0",
            "_view_name": "ProgressView",
            "bar_style": "success",
            "description": "",
            "description_tooltip": null,
            "layout": "IPY_MODEL_11dca7319cda477eb842298592dfc66f",
            "max": 170498071,
            "min": 0,
            "orientation": "horizontal",
            "style": "IPY_MODEL_8cbc16f4711c4a2cb410fc86a75a8bd2",
            "value": 170498071
          }
        },
        "75c69d01c18b4711b20e4836a37debd2": {
          "model_module": "@jupyter-widgets/controls",
          "model_name": "HTMLModel",
          "model_module_version": "1.5.0",
          "state": {
            "_dom_classes": [],
            "_model_module": "@jupyter-widgets/controls",
            "_model_module_version": "1.5.0",
            "_model_name": "HTMLModel",
            "_view_count": null,
            "_view_module": "@jupyter-widgets/controls",
            "_view_module_version": "1.5.0",
            "_view_name": "HTMLView",
            "description": "",
            "description_tooltip": null,
            "layout": "IPY_MODEL_e58020a3d77b4d65b6a4cdb623641651",
            "placeholder": "​",
            "style": "IPY_MODEL_7240b784b49e42e4acc54dae2e0b0231",
            "value": " 170498071/170498071 [00:03&lt;00:00, 54511593.91it/s]"
          }
        },
        "94df3017105a42ec942ecda3ca837f1d": {
          "model_module": "@jupyter-widgets/base",
          "model_name": "LayoutModel",
          "model_module_version": "1.2.0",
          "state": {
            "_model_module": "@jupyter-widgets/base",
            "_model_module_version": "1.2.0",
            "_model_name": "LayoutModel",
            "_view_count": null,
            "_view_module": "@jupyter-widgets/base",
            "_view_module_version": "1.2.0",
            "_view_name": "LayoutView",
            "align_content": null,
            "align_items": null,
            "align_self": null,
            "border": null,
            "bottom": null,
            "display": null,
            "flex": null,
            "flex_flow": null,
            "grid_area": null,
            "grid_auto_columns": null,
            "grid_auto_flow": null,
            "grid_auto_rows": null,
            "grid_column": null,
            "grid_gap": null,
            "grid_row": null,
            "grid_template_areas": null,
            "grid_template_columns": null,
            "grid_template_rows": null,
            "height": null,
            "justify_content": null,
            "justify_items": null,
            "left": null,
            "margin": null,
            "max_height": null,
            "max_width": null,
            "min_height": null,
            "min_width": null,
            "object_fit": null,
            "object_position": null,
            "order": null,
            "overflow": null,
            "overflow_x": null,
            "overflow_y": null,
            "padding": null,
            "right": null,
            "top": null,
            "visibility": null,
            "width": null
          }
        },
        "a991e7de664c408f89f2e5243e540178": {
          "model_module": "@jupyter-widgets/base",
          "model_name": "LayoutModel",
          "model_module_version": "1.2.0",
          "state": {
            "_model_module": "@jupyter-widgets/base",
            "_model_module_version": "1.2.0",
            "_model_name": "LayoutModel",
            "_view_count": null,
            "_view_module": "@jupyter-widgets/base",
            "_view_module_version": "1.2.0",
            "_view_name": "LayoutView",
            "align_content": null,
            "align_items": null,
            "align_self": null,
            "border": null,
            "bottom": null,
            "display": null,
            "flex": null,
            "flex_flow": null,
            "grid_area": null,
            "grid_auto_columns": null,
            "grid_auto_flow": null,
            "grid_auto_rows": null,
            "grid_column": null,
            "grid_gap": null,
            "grid_row": null,
            "grid_template_areas": null,
            "grid_template_columns": null,
            "grid_template_rows": null,
            "height": null,
            "justify_content": null,
            "justify_items": null,
            "left": null,
            "margin": null,
            "max_height": null,
            "max_width": null,
            "min_height": null,
            "min_width": null,
            "object_fit": null,
            "object_position": null,
            "order": null,
            "overflow": null,
            "overflow_x": null,
            "overflow_y": null,
            "padding": null,
            "right": null,
            "top": null,
            "visibility": null,
            "width": null
          }
        },
        "6e7a8bb354124c91a65bd3fbbfd144b0": {
          "model_module": "@jupyter-widgets/controls",
          "model_name": "DescriptionStyleModel",
          "model_module_version": "1.5.0",
          "state": {
            "_model_module": "@jupyter-widgets/controls",
            "_model_module_version": "1.5.0",
            "_model_name": "DescriptionStyleModel",
            "_view_count": null,
            "_view_module": "@jupyter-widgets/base",
            "_view_module_version": "1.2.0",
            "_view_name": "StyleView",
            "description_width": ""
          }
        },
        "11dca7319cda477eb842298592dfc66f": {
          "model_module": "@jupyter-widgets/base",
          "model_name": "LayoutModel",
          "model_module_version": "1.2.0",
          "state": {
            "_model_module": "@jupyter-widgets/base",
            "_model_module_version": "1.2.0",
            "_model_name": "LayoutModel",
            "_view_count": null,
            "_view_module": "@jupyter-widgets/base",
            "_view_module_version": "1.2.0",
            "_view_name": "LayoutView",
            "align_content": null,
            "align_items": null,
            "align_self": null,
            "border": null,
            "bottom": null,
            "display": null,
            "flex": null,
            "flex_flow": null,
            "grid_area": null,
            "grid_auto_columns": null,
            "grid_auto_flow": null,
            "grid_auto_rows": null,
            "grid_column": null,
            "grid_gap": null,
            "grid_row": null,
            "grid_template_areas": null,
            "grid_template_columns": null,
            "grid_template_rows": null,
            "height": null,
            "justify_content": null,
            "justify_items": null,
            "left": null,
            "margin": null,
            "max_height": null,
            "max_width": null,
            "min_height": null,
            "min_width": null,
            "object_fit": null,
            "object_position": null,
            "order": null,
            "overflow": null,
            "overflow_x": null,
            "overflow_y": null,
            "padding": null,
            "right": null,
            "top": null,
            "visibility": null,
            "width": null
          }
        },
        "8cbc16f4711c4a2cb410fc86a75a8bd2": {
          "model_module": "@jupyter-widgets/controls",
          "model_name": "ProgressStyleModel",
          "model_module_version": "1.5.0",
          "state": {
            "_model_module": "@jupyter-widgets/controls",
            "_model_module_version": "1.5.0",
            "_model_name": "ProgressStyleModel",
            "_view_count": null,
            "_view_module": "@jupyter-widgets/base",
            "_view_module_version": "1.2.0",
            "_view_name": "StyleView",
            "bar_color": null,
            "description_width": ""
          }
        },
        "e58020a3d77b4d65b6a4cdb623641651": {
          "model_module": "@jupyter-widgets/base",
          "model_name": "LayoutModel",
          "model_module_version": "1.2.0",
          "state": {
            "_model_module": "@jupyter-widgets/base",
            "_model_module_version": "1.2.0",
            "_model_name": "LayoutModel",
            "_view_count": null,
            "_view_module": "@jupyter-widgets/base",
            "_view_module_version": "1.2.0",
            "_view_name": "LayoutView",
            "align_content": null,
            "align_items": null,
            "align_self": null,
            "border": null,
            "bottom": null,
            "display": null,
            "flex": null,
            "flex_flow": null,
            "grid_area": null,
            "grid_auto_columns": null,
            "grid_auto_flow": null,
            "grid_auto_rows": null,
            "grid_column": null,
            "grid_gap": null,
            "grid_row": null,
            "grid_template_areas": null,
            "grid_template_columns": null,
            "grid_template_rows": null,
            "height": null,
            "justify_content": null,
            "justify_items": null,
            "left": null,
            "margin": null,
            "max_height": null,
            "max_width": null,
            "min_height": null,
            "min_width": null,
            "object_fit": null,
            "object_position": null,
            "order": null,
            "overflow": null,
            "overflow_x": null,
            "overflow_y": null,
            "padding": null,
            "right": null,
            "top": null,
            "visibility": null,
            "width": null
          }
        },
        "7240b784b49e42e4acc54dae2e0b0231": {
          "model_module": "@jupyter-widgets/controls",
          "model_name": "DescriptionStyleModel",
          "model_module_version": "1.5.0",
          "state": {
            "_model_module": "@jupyter-widgets/controls",
            "_model_module_version": "1.5.0",
            "_model_name": "DescriptionStyleModel",
            "_view_count": null,
            "_view_module": "@jupyter-widgets/base",
            "_view_module_version": "1.2.0",
            "_view_name": "StyleView",
            "description_width": ""
          }
        }
      }
    }
  },
  "cells": [
    {
      "cell_type": "code",
      "execution_count": 1,
      "metadata": {
        "id": "PXDEvoP8Y_ST"
      },
      "outputs": [],
      "source": [
        "import torch\n",
        "import torch.nn as nn\n",
        "import torchvision.transforms as transforms\n",
        "from torchsummary import summary\n",
        "import torch.optim as optim\n",
        "\n",
        "from utils.data import Data\n",
        "from utils.model import ResNet\n",
        "from utils.training import Training"
      ]
    },
    {
      "cell_type": "code",
      "source": [
        "BATCH_SIZE = 256\n",
        "VAILD_RATIO = 0.9\n",
        "LR = 1e-2\n",
        "EPOCHS = 100\n",
        "LOG_FILE_NAME = 'res14+aug(R)'\n",
        "\n",
        "device = 'cuda' if torch.cuda.is_available() else 'cpu'"
      ],
      "metadata": {
        "id": "iyJOiF4Zj7-t"
      },
      "execution_count": 2,
      "outputs": []
    },
    {
      "cell_type": "markdown",
      "source": [
        "## Data Preparation"
      ],
      "metadata": {
        "id": "YUbFbRDuZgZf"
      }
    },
    {
      "cell_type": "code",
      "source": [
        "data = Data(batch_size = BATCH_SIZE, valid_ratio = VAILD_RATIO)\n",
        "\n",
        "train_transforms = transforms.Compose([\n",
        "                           transforms.RandomRotation(5),\n",
        "                           transforms.RandomHorizontalFlip(),\n",
        "                           transforms.RandomCrop(32, padding = 4),\n",
        "                           transforms.ToTensor(),\n",
        "                           transforms.Normalize(mean = data.means, \n",
        "                                                std = data.stds)\n",
        "                       ])\n",
        "\n",
        "train_iterator, valid_iterator = data.getTrainValData(train_transforms)\n",
        "test_iterator = data.getTestData()"
      ],
      "metadata": {
        "colab": {
          "base_uri": "https://localhost:8080/",
          "height": 120,
          "referenced_widgets": [
            "60e85b4346e1467a88d0dc7c8ccc9aec",
            "46db2301426a42e696dd034cf3e9f9e7",
            "53554086b90b44f182e160c855d6d9f8",
            "75c69d01c18b4711b20e4836a37debd2",
            "94df3017105a42ec942ecda3ca837f1d",
            "a991e7de664c408f89f2e5243e540178",
            "6e7a8bb354124c91a65bd3fbbfd144b0",
            "11dca7319cda477eb842298592dfc66f",
            "8cbc16f4711c4a2cb410fc86a75a8bd2",
            "e58020a3d77b4d65b6a4cdb623641651",
            "7240b784b49e42e4acc54dae2e0b0231"
          ]
        },
        "id": "btsf_HWLVDat",
        "outputId": "145a3d09-011c-44d5-c4ce-3a79ac951a98"
      },
      "execution_count": 3,
      "outputs": [
        {
          "output_type": "stream",
          "name": "stdout",
          "text": [
            "Downloading https://www.cs.toronto.edu/~kriz/cifar-10-python.tar.gz to .data/cifar-10-python.tar.gz\n"
          ]
        },
        {
          "output_type": "display_data",
          "data": {
            "text/plain": [
              "  0%|          | 0/170498071 [00:00<?, ?it/s]"
            ],
            "application/vnd.jupyter.widget-view+json": {
              "version_major": 2,
              "version_minor": 0,
              "model_id": "60e85b4346e1467a88d0dc7c8ccc9aec"
            }
          },
          "metadata": {}
        },
        {
          "output_type": "stream",
          "name": "stdout",
          "text": [
            "Extracting .data/cifar-10-python.tar.gz to .data\n",
            "Files already downloaded and verified\n",
            "Files already downloaded and verified\n"
          ]
        }
      ]
    },
    {
      "cell_type": "markdown",
      "source": [
        "## Modeling"
      ],
      "metadata": {
        "id": "QWIkMT6RbVWt"
      }
    },
    {
      "cell_type": "code",
      "source": [
        "model = ResNet([2, 2, 2]).to(device)\n",
        "summary(model, (3, 32, 32))"
      ],
      "metadata": {
        "colab": {
          "base_uri": "https://localhost:8080/"
        },
        "id": "vpte7ypce2aW",
        "outputId": "14477525-6bea-4fee-999f-49531dc8d7d0"
      },
      "execution_count": 4,
      "outputs": [
        {
          "output_type": "stream",
          "name": "stdout",
          "text": [
            "----------------------------------------------------------------\n",
            "        Layer (type)               Output Shape         Param #\n",
            "================================================================\n",
            "            Conv2d-1           [-1, 64, 32, 32]           1,728\n",
            "       BatchNorm2d-2           [-1, 64, 32, 32]             128\n",
            "            Conv2d-3           [-1, 64, 32, 32]          36,864\n",
            "       BatchNorm2d-4           [-1, 64, 32, 32]             128\n",
            "            Conv2d-5           [-1, 64, 32, 32]          36,864\n",
            "       BatchNorm2d-6           [-1, 64, 32, 32]             128\n",
            "     ResidualBlock-7           [-1, 64, 32, 32]               0\n",
            "            Conv2d-8           [-1, 64, 32, 32]          36,864\n",
            "       BatchNorm2d-9           [-1, 64, 32, 32]             128\n",
            "           Conv2d-10           [-1, 64, 32, 32]          36,864\n",
            "      BatchNorm2d-11           [-1, 64, 32, 32]             128\n",
            "    ResidualBlock-12           [-1, 64, 32, 32]               0\n",
            "           Conv2d-13          [-1, 128, 16, 16]          73,728\n",
            "      BatchNorm2d-14          [-1, 128, 16, 16]             256\n",
            "           Conv2d-15          [-1, 128, 16, 16]         147,456\n",
            "      BatchNorm2d-16          [-1, 128, 16, 16]             256\n",
            "           Conv2d-17          [-1, 128, 16, 16]           8,192\n",
            "      BatchNorm2d-18          [-1, 128, 16, 16]             256\n",
            "    ResidualBlock-19          [-1, 128, 16, 16]               0\n",
            "           Conv2d-20          [-1, 128, 16, 16]         147,456\n",
            "      BatchNorm2d-21          [-1, 128, 16, 16]             256\n",
            "           Conv2d-22          [-1, 128, 16, 16]         147,456\n",
            "      BatchNorm2d-23          [-1, 128, 16, 16]             256\n",
            "    ResidualBlock-24          [-1, 128, 16, 16]               0\n",
            "           Conv2d-25            [-1, 256, 8, 8]         294,912\n",
            "      BatchNorm2d-26            [-1, 256, 8, 8]             512\n",
            "           Conv2d-27            [-1, 256, 8, 8]         589,824\n",
            "      BatchNorm2d-28            [-1, 256, 8, 8]             512\n",
            "           Conv2d-29            [-1, 256, 8, 8]          32,768\n",
            "      BatchNorm2d-30            [-1, 256, 8, 8]             512\n",
            "    ResidualBlock-31            [-1, 256, 8, 8]               0\n",
            "           Conv2d-32            [-1, 256, 8, 8]         589,824\n",
            "      BatchNorm2d-33            [-1, 256, 8, 8]             512\n",
            "           Conv2d-34            [-1, 256, 8, 8]         589,824\n",
            "      BatchNorm2d-35            [-1, 256, 8, 8]             512\n",
            "    ResidualBlock-36            [-1, 256, 8, 8]               0\n",
            "           Linear-37                   [-1, 10]          10,250\n",
            "================================================================\n",
            "Total params: 2,785,354\n",
            "Trainable params: 2,785,354\n",
            "Non-trainable params: 0\n",
            "----------------------------------------------------------------\n",
            "Input size (MB): 0.01\n",
            "Forward/backward pass size (MB): 10.50\n",
            "Params size (MB): 10.63\n",
            "Estimated Total Size (MB): 21.14\n",
            "----------------------------------------------------------------\n"
          ]
        }
      ]
    },
    {
      "cell_type": "code",
      "source": [
        "criterion = nn.CrossEntropyLoss()\n",
        "optimizer = optim.SGD(model.parameters(), lr=LR)\n",
        "\n",
        "t = Training(\n",
        "    device = device,\n",
        "    model = model, \n",
        "    optimizer = optimizer, \n",
        "    criterion = criterion, \n",
        "    epochs = EPOCHS)"
      ],
      "metadata": {
        "id": "nHgAnLIQe4q5"
      },
      "execution_count": 5,
      "outputs": []
    },
    {
      "cell_type": "code",
      "source": [
        "t.start_training(train_iterator, valid_iterator, logFileName = LOG_FILE_NAME)"
      ],
      "metadata": {
        "id": "Y46vNlbQq3xb",
        "colab": {
          "base_uri": "https://localhost:8080/"
        },
        "outputId": "e8195d20-d492-42f2-f2d1-034f96281335"
      },
      "execution_count": 6,
      "outputs": [
        {
          "output_type": "stream",
          "name": "stdout",
          "text": [
            "epoch:1 | Train Loss: 1.699 | Train Acc: 37.516% | Val Loss: 1.564 | Val Acc: 42.146%\n",
            "epoch:2 | Train Loss: 1.384 | Train Acc: 49.305% | Val Loss: 1.488 | Val Acc: 48.184%\n",
            "epoch:3 | Train Loss: 1.226 | Train Acc: 55.560% | Val Loss: 1.305 | Val Acc: 52.849%\n",
            "epoch:4 | Train Loss: 1.096 | Train Acc: 60.842% | Val Loss: 1.108 | Val Acc: 60.948%\n",
            "epoch:5 | Train Loss: 1.005 | Train Acc: 64.104% | Val Loss: 1.140 | Val Acc: 59.999%\n",
            "epoch:6 | Train Loss: 0.927 | Train Acc: 67.142% | Val Loss: 1.033 | Val Acc: 63.272%\n",
            "epoch:7 | Train Loss: 0.868 | Train Acc: 69.506% | Val Loss: 0.929 | Val Acc: 67.613%\n",
            "epoch:8 | Train Loss: 0.816 | Train Acc: 71.053% | Val Loss: 1.019 | Val Acc: 64.832%\n",
            "epoch:9 | Train Loss: 0.768 | Train Acc: 72.888% | Val Loss: 1.067 | Val Acc: 64.245%\n",
            "epoch:10 | Train Loss: 0.732 | Train Acc: 74.283% | Val Loss: 0.941 | Val Acc: 68.255%\n",
            "epoch:11 | Train Loss: 0.692 | Train Acc: 75.695% | Val Loss: 0.790 | Val Acc: 72.470%\n",
            "epoch:12 | Train Loss: 0.661 | Train Acc: 76.887% | Val Loss: 0.808 | Val Acc: 72.394%\n",
            "epoch:13 | Train Loss: 0.633 | Train Acc: 77.831% | Val Loss: 0.828 | Val Acc: 71.651%\n",
            "epoch:14 | Train Loss: 0.610 | Train Acc: 78.714% | Val Loss: 0.718 | Val Acc: 74.663%\n",
            "epoch:15 | Train Loss: 0.589 | Train Acc: 79.410% | Val Loss: 0.719 | Val Acc: 74.799%\n",
            "epoch:16 | Train Loss: 0.570 | Train Acc: 80.020% | Val Loss: 0.664 | Val Acc: 76.587%\n",
            "epoch:17 | Train Loss: 0.545 | Train Acc: 80.988% | Val Loss: 0.700 | Val Acc: 76.426%\n",
            "epoch:18 | Train Loss: 0.522 | Train Acc: 81.818% | Val Loss: 0.716 | Val Acc: 75.051%\n",
            "epoch:19 | Train Loss: 0.509 | Train Acc: 82.332% | Val Loss: 0.641 | Val Acc: 78.008%\n",
            "epoch:20 | Train Loss: 0.492 | Train Acc: 82.935% | Val Loss: 0.714 | Val Acc: 75.630%\n",
            "epoch:21 | Train Loss: 0.481 | Train Acc: 83.177% | Val Loss: 0.605 | Val Acc: 79.489%\n",
            "epoch:22 | Train Loss: 0.463 | Train Acc: 83.864% | Val Loss: 0.597 | Val Acc: 79.761%\n",
            "epoch:23 | Train Loss: 0.452 | Train Acc: 84.443% | Val Loss: 0.699 | Val Acc: 76.765%\n",
            "epoch:24 | Train Loss: 0.439 | Train Acc: 84.813% | Val Loss: 0.635 | Val Acc: 78.259%\n",
            "epoch:25 | Train Loss: 0.425 | Train Acc: 85.236% | Val Loss: 0.656 | Val Acc: 77.802%\n",
            "epoch:26 | Train Loss: 0.414 | Train Acc: 85.853% | Val Loss: 0.558 | Val Acc: 81.399%\n",
            "epoch:27 | Train Loss: 0.401 | Train Acc: 86.027% | Val Loss: 0.634 | Val Acc: 77.815%\n",
            "epoch:28 | Train Loss: 0.390 | Train Acc: 86.640% | Val Loss: 0.519 | Val Acc: 82.408%\n",
            "epoch:29 | Train Loss: 0.382 | Train Acc: 86.672% | Val Loss: 0.630 | Val Acc: 79.355%\n",
            "epoch:30 | Train Loss: 0.371 | Train Acc: 87.251% | Val Loss: 0.527 | Val Acc: 82.391%\n",
            "epoch:31 | Train Loss: 0.364 | Train Acc: 87.391% | Val Loss: 0.523 | Val Acc: 82.090%\n",
            "epoch:32 | Train Loss: 0.354 | Train Acc: 87.730% | Val Loss: 0.616 | Val Acc: 79.403%\n",
            "epoch:33 | Train Loss: 0.341 | Train Acc: 88.135% | Val Loss: 0.581 | Val Acc: 80.844%\n",
            "epoch:34 | Train Loss: 0.339 | Train Acc: 88.110% | Val Loss: 0.531 | Val Acc: 82.277%\n",
            "epoch:35 | Train Loss: 0.331 | Train Acc: 88.451% | Val Loss: 0.595 | Val Acc: 80.354%\n",
            "epoch:36 | Train Loss: 0.319 | Train Acc: 88.850% | Val Loss: 0.600 | Val Acc: 80.634%\n",
            "epoch:37 | Train Loss: 0.312 | Train Acc: 89.161% | Val Loss: 0.534 | Val Acc: 82.139%\n",
            "epoch:38 | Train Loss: 0.306 | Train Acc: 89.433% | Val Loss: 0.686 | Val Acc: 77.562%\n",
            "epoch:39 | Train Loss: 0.302 | Train Acc: 89.438% | Val Loss: 0.516 | Val Acc: 82.271%\n",
            "epoch:40 | Train Loss: 0.288 | Train Acc: 90.048% | Val Loss: 0.571 | Val Acc: 81.702%\n",
            "epoch:41 | Train Loss: 0.283 | Train Acc: 90.079% | Val Loss: 0.557 | Val Acc: 82.452%\n",
            "epoch:42 | Train Loss: 0.282 | Train Acc: 90.174% | Val Loss: 0.491 | Val Acc: 83.649%\n",
            "epoch:43 | Train Loss: 0.273 | Train Acc: 90.460% | Val Loss: 0.541 | Val Acc: 82.213%\n",
            "epoch:44 | Train Loss: 0.267 | Train Acc: 90.707% | Val Loss: 0.525 | Val Acc: 82.942%\n",
            "epoch:45 | Train Loss: 0.258 | Train Acc: 91.149% | Val Loss: 0.512 | Val Acc: 83.436%\n",
            "epoch:46 | Train Loss: 0.252 | Train Acc: 91.184% | Val Loss: 0.471 | Val Acc: 84.204%\n",
            "epoch:47 | Train Loss: 0.245 | Train Acc: 91.465% | Val Loss: 0.486 | Val Acc: 83.751%\n",
            "epoch:48 | Train Loss: 0.244 | Train Acc: 91.420% | Val Loss: 0.461 | Val Acc: 84.795%\n",
            "epoch:49 | Train Loss: 0.234 | Train Acc: 91.770% | Val Loss: 0.512 | Val Acc: 83.038%\n",
            "epoch:50 | Train Loss: 0.229 | Train Acc: 92.016% | Val Loss: 0.527 | Val Acc: 83.512%\n",
            "epoch:51 | Train Loss: 0.227 | Train Acc: 92.079% | Val Loss: 1.250 | Val Acc: 69.627%\n",
            "epoch:52 | Train Loss: 0.221 | Train Acc: 92.208% | Val Loss: 0.557 | Val Acc: 82.081%\n",
            "epoch:53 | Train Loss: 0.215 | Train Acc: 92.512% | Val Loss: 0.584 | Val Acc: 82.703%\n",
            "epoch:54 | Train Loss: 0.210 | Train Acc: 92.577% | Val Loss: 0.507 | Val Acc: 84.661%\n",
            "epoch:55 | Train Loss: 0.208 | Train Acc: 92.634% | Val Loss: 0.538 | Val Acc: 83.224%\n",
            "epoch:56 | Train Loss: 0.200 | Train Acc: 93.094% | Val Loss: 0.547 | Val Acc: 83.404%\n",
            "epoch:57 | Train Loss: 0.196 | Train Acc: 93.112% | Val Loss: 0.464 | Val Acc: 84.994%\n",
            "epoch:58 | Train Loss: 0.187 | Train Acc: 93.531% | Val Loss: 0.575 | Val Acc: 81.978%\n",
            "epoch:59 | Train Loss: 0.187 | Train Acc: 93.408% | Val Loss: 0.464 | Val Acc: 85.568%\n",
            "epoch:60 | Train Loss: 0.183 | Train Acc: 93.511% | Val Loss: 0.493 | Val Acc: 84.589%\n",
            "epoch:61 | Train Loss: 0.179 | Train Acc: 93.803% | Val Loss: 0.553 | Val Acc: 82.938%\n",
            "epoch:62 | Train Loss: 0.174 | Train Acc: 93.847% | Val Loss: 0.534 | Val Acc: 83.976%\n",
            "epoch:63 | Train Loss: 0.167 | Train Acc: 94.195% | Val Loss: 0.543 | Val Acc: 84.701%\n",
            "epoch:64 | Train Loss: 0.170 | Train Acc: 94.045% | Val Loss: 0.474 | Val Acc: 85.480%\n",
            "epoch:65 | Train Loss: 0.162 | Train Acc: 94.388% | Val Loss: 0.520 | Val Acc: 84.437%\n",
            "epoch:66 | Train Loss: 0.161 | Train Acc: 94.452% | Val Loss: 0.787 | Val Acc: 78.074%\n",
            "epoch:67 | Train Loss: 0.156 | Train Acc: 94.594% | Val Loss: 0.555 | Val Acc: 84.064%\n",
            "epoch:68 | Train Loss: 0.153 | Train Acc: 94.800% | Val Loss: 0.527 | Val Acc: 84.230%\n",
            "epoch:69 | Train Loss: 0.153 | Train Acc: 94.641% | Val Loss: 0.456 | Val Acc: 85.986%\n",
            "epoch:70 | Train Loss: 0.144 | Train Acc: 94.985% | Val Loss: 0.639 | Val Acc: 82.085%\n",
            "epoch:71 | Train Loss: 0.141 | Train Acc: 95.047% | Val Loss: 0.513 | Val Acc: 85.091%\n",
            "epoch:72 | Train Loss: 0.139 | Train Acc: 95.187% | Val Loss: 0.547 | Val Acc: 84.750%\n",
            "epoch:73 | Train Loss: 0.134 | Train Acc: 95.344% | Val Loss: 0.494 | Val Acc: 85.709%\n",
            "epoch:74 | Train Loss: 0.133 | Train Acc: 95.374% | Val Loss: 0.532 | Val Acc: 84.307%\n",
            "epoch:75 | Train Loss: 0.127 | Train Acc: 95.535% | Val Loss: 0.633 | Val Acc: 82.853%\n",
            "epoch:76 | Train Loss: 0.131 | Train Acc: 95.491% | Val Loss: 0.500 | Val Acc: 85.929%\n",
            "epoch:77 | Train Loss: 0.123 | Train Acc: 95.651% | Val Loss: 0.461 | Val Acc: 86.264%\n",
            "epoch:78 | Train Loss: 0.118 | Train Acc: 95.862% | Val Loss: 0.565 | Val Acc: 84.114%\n",
            "epoch:79 | Train Loss: 0.121 | Train Acc: 95.772% | Val Loss: 0.514 | Val Acc: 85.398%\n",
            "epoch:80 | Train Loss: 0.115 | Train Acc: 95.965% | Val Loss: 0.542 | Val Acc: 85.032%\n",
            "epoch:81 | Train Loss: 0.114 | Train Acc: 95.877% | Val Loss: 0.750 | Val Acc: 80.789%\n",
            "epoch:82 | Train Loss: 0.114 | Train Acc: 95.963% | Val Loss: 0.573 | Val Acc: 84.289%\n",
            "epoch:83 | Train Loss: 0.106 | Train Acc: 96.351% | Val Loss: 0.469 | Val Acc: 87.165%\n",
            "epoch:84 | Train Loss: 0.106 | Train Acc: 96.333% | Val Loss: 0.496 | Val Acc: 85.858%\n",
            "epoch:85 | Train Loss: 0.104 | Train Acc: 96.319% | Val Loss: 0.614 | Val Acc: 84.040%\n",
            "epoch:86 | Train Loss: 0.106 | Train Acc: 96.263% | Val Loss: 0.549 | Val Acc: 85.170%\n",
            "epoch:87 | Train Loss: 0.097 | Train Acc: 96.590% | Val Loss: 0.638 | Val Acc: 84.311%\n",
            "epoch:88 | Train Loss: 0.097 | Train Acc: 96.586% | Val Loss: 0.561 | Val Acc: 85.016%\n",
            "epoch:89 | Train Loss: 0.099 | Train Acc: 96.547% | Val Loss: 0.554 | Val Acc: 85.416%\n",
            "epoch:90 | Train Loss: 0.091 | Train Acc: 96.920% | Val Loss: 0.475 | Val Acc: 87.221%\n",
            "epoch:91 | Train Loss: 0.090 | Train Acc: 96.801% | Val Loss: 0.500 | Val Acc: 86.032%\n",
            "epoch:92 | Train Loss: 0.090 | Train Acc: 97.028% | Val Loss: 0.570 | Val Acc: 84.836%\n",
            "epoch:93 | Train Loss: 0.086 | Train Acc: 97.069% | Val Loss: 0.507 | Val Acc: 86.151%\n",
            "epoch:94 | Train Loss: 0.085 | Train Acc: 97.139% | Val Loss: 0.519 | Val Acc: 86.681%\n",
            "epoch:95 | Train Loss: 0.084 | Train Acc: 97.068% | Val Loss: 0.478 | Val Acc: 87.309%\n",
            "epoch:96 | Train Loss: 0.078 | Train Acc: 97.282% | Val Loss: 0.600 | Val Acc: 84.342%\n",
            "epoch:97 | Train Loss: 0.081 | Train Acc: 97.307% | Val Loss: 0.561 | Val Acc: 84.751%\n",
            "epoch:98 | Train Loss: 0.082 | Train Acc: 97.215% | Val Loss: 0.567 | Val Acc: 85.048%\n",
            "epoch:99 | Train Loss: 0.079 | Train Acc: 97.312% | Val Loss: 0.557 | Val Acc: 85.591%\n",
            "epoch:100 | Train Loss: 0.075 | Train Acc: 97.453% | Val Loss: 0.553 | Val Acc: 86.375%\n"
          ]
        }
      ]
    },
    {
      "cell_type": "code",
      "source": [
        "t.test(test_iterator)"
      ],
      "metadata": {
        "id": "V4Ki2NUDBRrT",
        "colab": {
          "base_uri": "https://localhost:8080/"
        },
        "outputId": "b1c5394e-7cfc-4e2e-bf17-48c178e5bff6"
      },
      "execution_count": 7,
      "outputs": [
        {
          "output_type": "stream",
          "name": "stdout",
          "text": [
            "Test Loss: 0.499 | Test Acc: 86.250%\n"
          ]
        }
      ]
    },
    {
      "cell_type": "markdown",
      "source": [
        "## Plot Result"
      ],
      "metadata": {
        "id": "DRInHpYph0SL"
      }
    },
    {
      "cell_type": "code",
      "source": [
        "t.plot_acc()"
      ],
      "metadata": {
        "colab": {
          "base_uri": "https://localhost:8080/",
          "height": 268
        },
        "id": "cTLWY9ich4Th",
        "outputId": "71bc421f-8b11-4d62-d21d-796da9fdf247"
      },
      "execution_count": 8,
      "outputs": [
        {
          "output_type": "display_data",
          "data": {
            "text/plain": [
              "<Figure size 432x288 with 1 Axes>"
            ],
            "image/png": "[encoded data removed]"
          },
          "metadata": {
            "needs_background": "light"
          }
        }
      ]
    },
    {
      "cell_type": "code",
      "source": [
        "t.plot_loss()"
      ],
      "metadata": {
        "colab": {
          "base_uri": "https://localhost:8080/",
          "height": 265
        },
        "id": "i27XeMWgi3_o",
        "outputId": "0feb0f82-4465-44c5-cd70-b549967e1c60"
      },
      "execution_count": 9,
      "outputs": [
        {
          "output_type": "display_data",
          "data": {
            "text/plain": [
              "<Figure size 432x288 with 1 Axes>"
            ],
            "image/png": "[encoded data removed]"
          },
          "metadata": {
            "needs_background": "light"
          }
        }
      ]
    }
  ]
}