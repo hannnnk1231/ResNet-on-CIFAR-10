{
  "nbformat": 4,
  "nbformat_minor": 0,
  "metadata": {
    "colab": {
      "provenance": []
    },
    "kernelspec": {
      "name": "python3",
      "display_name": "Python 3"
    },
    "language_info": {
      "name": "python"
    },
    "gpuClass": "standard",
    "accelerator": "GPU"
  },
  "cells": [
    {
      "cell_type": "code",
      "execution_count": 1,
      "metadata": {
        "id": "PXDEvoP8Y_ST"
      },
      "outputs": [],
      "source": [
        "import torch\n",
        "import torch.nn as nn\n",
        "import torchvision.transforms as transforms\n",
        "from torchsummary import summary\n",
        "import torch.optim as optim\n",
        "\n",
        "from utils.data import Data\n",
        "from utils.model import ResNet\n",
        "from utils.training import Training"
      ]
    },
    {
      "cell_type": "code",
      "source": [
        "BATCH_SIZE = 256\n",
        "VAILD_RATIO = 0.9\n",
        "LR = 1e-3\n",
        "EPOCHS = 80\n",
        "LOG_FILE_NAME = 'res20_log.txt'\n",
        "\n",
        "device = 'cuda' if torch.cuda.is_available() else 'cpu'"
      ],
      "metadata": {
        "id": "iyJOiF4Zj7-t"
      },
      "execution_count": 2,
      "outputs": []
    },
    {
      "cell_type": "markdown",
      "source": [
        "## Data Preparation"
      ],
      "metadata": {
        "id": "YUbFbRDuZgZf"
      }
    },
    {
      "cell_type": "code",
      "source": [
        "data = Data(batch_size = BATCH_SIZE, valid_ratio = VAILD_RATIO)\n",
        "train_iterator, valid_iterator = data.getTrainValData()\n",
        "test_iterator = data.getTestData()"
      ],
      "metadata": {
        "colab": {
          "base_uri": "https://localhost:8080/"
        },
        "id": "btsf_HWLVDat",
        "outputId": "1b422011-d29b-4707-9c9c-2db7d9db6eb4"
      },
      "execution_count": 3,
      "outputs": [
        {
          "output_type": "stream",
          "name": "stdout",
          "text": [
            "Files already downloaded and verified\n",
            "Files already downloaded and verified\n",
            "Files already downloaded and verified\n"
          ]
        }
      ]
    },
    {
      "cell_type": "markdown",
      "source": [
        "## Modeling"
      ],
      "metadata": {
        "id": "QWIkMT6RbVWt"
      }
    },
    {
      "cell_type": "code",
      "source": [
        "model = ResNet([3, 3, 3]).to(device)\n",
        "summary(model, (3, 32, 32))"
      ],
      "metadata": {
        "colab": {
          "base_uri": "https://localhost:8080/"
        },
        "id": "vpte7ypce2aW",
        "outputId": "24acb146-532c-40cd-d199-f2fa563b6fc9"
      },
      "execution_count": 4,
      "outputs": [
        {
          "output_type": "stream",
          "name": "stdout",
          "text": [
            "----------------------------------------------------------------\n",
            "        Layer (type)               Output Shape         Param #\n",
            "================================================================\n",
            "            Conv2d-1           [-1, 64, 32, 32]           1,728\n",
            "       BatchNorm2d-2           [-1, 64, 32, 32]             128\n",
            "            Conv2d-3           [-1, 64, 32, 32]          36,864\n",
            "       BatchNorm2d-4           [-1, 64, 32, 32]             128\n",
            "            Conv2d-5           [-1, 64, 32, 32]          36,864\n",
            "       BatchNorm2d-6           [-1, 64, 32, 32]             128\n",
            "     ResidualBlock-7           [-1, 64, 32, 32]               0\n",
            "            Conv2d-8           [-1, 64, 32, 32]          36,864\n",
            "       BatchNorm2d-9           [-1, 64, 32, 32]             128\n",
            "           Conv2d-10           [-1, 64, 32, 32]          36,864\n",
            "      BatchNorm2d-11           [-1, 64, 32, 32]             128\n",
            "    ResidualBlock-12           [-1, 64, 32, 32]               0\n",
            "           Conv2d-13           [-1, 64, 32, 32]          36,864\n",
            "      BatchNorm2d-14           [-1, 64, 32, 32]             128\n",
            "           Conv2d-15           [-1, 64, 32, 32]          36,864\n",
            "      BatchNorm2d-16           [-1, 64, 32, 32]             128\n",
            "    ResidualBlock-17           [-1, 64, 32, 32]               0\n",
            "           Conv2d-18          [-1, 128, 16, 16]          73,728\n",
            "      BatchNorm2d-19          [-1, 128, 16, 16]             256\n",
            "           Conv2d-20          [-1, 128, 16, 16]         147,456\n",
            "      BatchNorm2d-21          [-1, 128, 16, 16]             256\n",
            "           Conv2d-22          [-1, 128, 16, 16]           8,192\n",
            "      BatchNorm2d-23          [-1, 128, 16, 16]             256\n",
            "    ResidualBlock-24          [-1, 128, 16, 16]               0\n",
            "           Conv2d-25          [-1, 128, 16, 16]         147,456\n",
            "      BatchNorm2d-26          [-1, 128, 16, 16]             256\n",
            "           Conv2d-27          [-1, 128, 16, 16]         147,456\n",
            "      BatchNorm2d-28          [-1, 128, 16, 16]             256\n",
            "    ResidualBlock-29          [-1, 128, 16, 16]               0\n",
            "           Conv2d-30          [-1, 128, 16, 16]         147,456\n",
            "      BatchNorm2d-31          [-1, 128, 16, 16]             256\n",
            "           Conv2d-32          [-1, 128, 16, 16]         147,456\n",
            "      BatchNorm2d-33          [-1, 128, 16, 16]             256\n",
            "    ResidualBlock-34          [-1, 128, 16, 16]               0\n",
            "           Conv2d-35            [-1, 256, 8, 8]         294,912\n",
            "      BatchNorm2d-36            [-1, 256, 8, 8]             512\n",
            "           Conv2d-37            [-1, 256, 8, 8]         589,824\n",
            "      BatchNorm2d-38            [-1, 256, 8, 8]             512\n",
            "           Conv2d-39            [-1, 256, 8, 8]          32,768\n",
            "      BatchNorm2d-40            [-1, 256, 8, 8]             512\n",
            "    ResidualBlock-41            [-1, 256, 8, 8]               0\n",
            "           Conv2d-42            [-1, 256, 8, 8]         589,824\n",
            "      BatchNorm2d-43            [-1, 256, 8, 8]             512\n",
            "           Conv2d-44            [-1, 256, 8, 8]         589,824\n",
            "      BatchNorm2d-45            [-1, 256, 8, 8]             512\n",
            "    ResidualBlock-46            [-1, 256, 8, 8]               0\n",
            "           Conv2d-47            [-1, 256, 8, 8]         589,824\n",
            "      BatchNorm2d-48            [-1, 256, 8, 8]             512\n",
            "           Conv2d-49            [-1, 256, 8, 8]         589,824\n",
            "      BatchNorm2d-50            [-1, 256, 8, 8]             512\n",
            "    ResidualBlock-51            [-1, 256, 8, 8]               0\n",
            "           Linear-52                   [-1, 10]          10,250\n",
            "================================================================\n",
            "Total params: 4,335,434\n",
            "Trainable params: 4,335,434\n",
            "Non-trainable params: 0\n",
            "----------------------------------------------------------------\n",
            "Input size (MB): 0.01\n",
            "Forward/backward pass size (MB): 14.88\n",
            "Params size (MB): 16.54\n",
            "Estimated Total Size (MB): 31.43\n",
            "----------------------------------------------------------------\n"
          ]
        }
      ]
    },
    {
      "cell_type": "code",
      "source": [
        "criterion = nn.CrossEntropyLoss()\n",
        "optimizer = optim.SGD(model.parameters(), lr=LR)\n",
        "\n",
        "t = Training(\n",
        "    device = device,\n",
        "    model = model, \n",
        "    optimizer = optimizer, \n",
        "    criterion = criterion, \n",
        "    epochs = EPOCHS)"
      ],
      "metadata": {
        "id": "nHgAnLIQe4q5"
      },
      "execution_count": 5,
      "outputs": []
    },
    {
      "cell_type": "code",
      "source": [
        "t.start_training(train_iterator, valid_iterator, logFileName = LOG_FILE_NAME)"
      ],
      "metadata": {
        "id": "Y46vNlbQq3xb",
        "colab": {
          "base_uri": "https://localhost:8080/"
        },
        "outputId": "cff17a8a-4378-4e25-a9a8-87aa84707673"
      },
      "execution_count": 6,
      "outputs": [
        {
          "output_type": "stream",
          "name": "stdout",
          "text": [
            "epoch:1 | Train Loss: 2.073 | Train Acc: 24.979% | Val Loss: 1.857 | Val Acc: 33.559%\n",
            "epoch:2 | Train Loss: 1.748 | Train Acc: 37.045% | Val Loss: 1.647 | Val Acc: 40.023%\n",
            "epoch:3 | Train Loss: 1.596 | Train Acc: 42.294% | Val Loss: 1.536 | Val Acc: 44.004%\n",
            "epoch:4 | Train Loss: 1.502 | Train Acc: 45.406% | Val Loss: 1.466 | Val Acc: 46.812%\n",
            "epoch:5 | Train Loss: 1.430 | Train Acc: 48.270% | Val Loss: 1.407 | Val Acc: 48.528%\n",
            "epoch:6 | Train Loss: 1.371 | Train Acc: 50.405% | Val Loss: 1.357 | Val Acc: 50.477%\n",
            "epoch:7 | Train Loss: 1.319 | Train Acc: 52.567% | Val Loss: 1.306 | Val Acc: 52.642%\n",
            "epoch:8 | Train Loss: 1.272 | Train Acc: 54.475% | Val Loss: 1.276 | Val Acc: 53.712%\n",
            "epoch:9 | Train Loss: 1.227 | Train Acc: 56.110% | Val Loss: 1.240 | Val Acc: 54.975%\n",
            "epoch:10 | Train Loss: 1.185 | Train Acc: 57.903% | Val Loss: 1.192 | Val Acc: 57.104%\n",
            "epoch:11 | Train Loss: 1.143 | Train Acc: 59.541% | Val Loss: 1.195 | Val Acc: 56.999%\n",
            "epoch:12 | Train Loss: 1.102 | Train Acc: 61.142% | Val Loss: 1.146 | Val Acc: 58.855%\n",
            "epoch:13 | Train Loss: 1.065 | Train Acc: 62.389% | Val Loss: 1.112 | Val Acc: 59.631%\n",
            "epoch:14 | Train Loss: 1.029 | Train Acc: 63.753% | Val Loss: 1.087 | Val Acc: 61.304%\n",
            "epoch:15 | Train Loss: 0.998 | Train Acc: 64.927% | Val Loss: 1.075 | Val Acc: 61.106%\n",
            "epoch:16 | Train Loss: 0.967 | Train Acc: 66.057% | Val Loss: 1.045 | Val Acc: 62.603%\n",
            "epoch:17 | Train Loss: 0.937 | Train Acc: 67.285% | Val Loss: 1.048 | Val Acc: 62.356%\n",
            "epoch:18 | Train Loss: 0.910 | Train Acc: 68.225% | Val Loss: 1.033 | Val Acc: 62.815%\n",
            "epoch:19 | Train Loss: 0.883 | Train Acc: 69.133% | Val Loss: 1.005 | Val Acc: 64.283%\n",
            "epoch:20 | Train Loss: 0.859 | Train Acc: 70.171% | Val Loss: 1.095 | Val Acc: 60.808%\n",
            "epoch:21 | Train Loss: 0.836 | Train Acc: 70.854% | Val Loss: 0.983 | Val Acc: 64.928%\n",
            "epoch:22 | Train Loss: 0.809 | Train Acc: 71.933% | Val Loss: 1.002 | Val Acc: 64.537%\n",
            "epoch:23 | Train Loss: 0.788 | Train Acc: 72.580% | Val Loss: 0.931 | Val Acc: 66.915%\n",
            "epoch:24 | Train Loss: 0.765 | Train Acc: 73.459% | Val Loss: 1.026 | Val Acc: 64.318%\n",
            "epoch:25 | Train Loss: 0.741 | Train Acc: 74.438% | Val Loss: 0.967 | Val Acc: 65.307%\n",
            "epoch:26 | Train Loss: 0.719 | Train Acc: 75.269% | Val Loss: 0.956 | Val Acc: 66.283%\n",
            "epoch:27 | Train Loss: 0.696 | Train Acc: 76.109% | Val Loss: 0.924 | Val Acc: 67.360%\n",
            "epoch:28 | Train Loss: 0.677 | Train Acc: 76.873% | Val Loss: 0.969 | Val Acc: 66.080%\n",
            "epoch:29 | Train Loss: 0.654 | Train Acc: 77.932% | Val Loss: 0.928 | Val Acc: 67.343%\n",
            "epoch:30 | Train Loss: 0.634 | Train Acc: 78.595% | Val Loss: 0.963 | Val Acc: 66.715%\n",
            "epoch:31 | Train Loss: 0.609 | Train Acc: 79.672% | Val Loss: 0.904 | Val Acc: 68.217%\n",
            "epoch:32 | Train Loss: 0.591 | Train Acc: 80.289% | Val Loss: 0.942 | Val Acc: 66.420%\n",
            "epoch:33 | Train Loss: 0.566 | Train Acc: 81.230% | Val Loss: 0.934 | Val Acc: 67.514%\n",
            "epoch:34 | Train Loss: 0.544 | Train Acc: 82.112% | Val Loss: 0.916 | Val Acc: 68.139%\n",
            "epoch:35 | Train Loss: 0.523 | Train Acc: 82.946% | Val Loss: 0.892 | Val Acc: 68.597%\n",
            "epoch:36 | Train Loss: 0.499 | Train Acc: 84.130% | Val Loss: 0.919 | Val Acc: 67.757%\n",
            "epoch:37 | Train Loss: 0.479 | Train Acc: 84.749% | Val Loss: 0.894 | Val Acc: 68.966%\n",
            "epoch:38 | Train Loss: 0.454 | Train Acc: 85.706% | Val Loss: 0.896 | Val Acc: 68.994%\n",
            "epoch:39 | Train Loss: 0.430 | Train Acc: 86.706% | Val Loss: 0.941 | Val Acc: 67.494%\n",
            "epoch:40 | Train Loss: 0.408 | Train Acc: 87.686% | Val Loss: 0.961 | Val Acc: 68.002%\n",
            "epoch:41 | Train Loss: 0.382 | Train Acc: 88.574% | Val Loss: 0.952 | Val Acc: 67.214%\n",
            "epoch:42 | Train Loss: 0.361 | Train Acc: 89.432% | Val Loss: 1.191 | Val Acc: 63.845%\n",
            "epoch:43 | Train Loss: 0.336 | Train Acc: 90.446% | Val Loss: 0.954 | Val Acc: 68.671%\n",
            "epoch:44 | Train Loss: 0.315 | Train Acc: 91.090% | Val Loss: 0.980 | Val Acc: 67.432%\n",
            "epoch:45 | Train Loss: 0.291 | Train Acc: 92.104% | Val Loss: 0.959 | Val Acc: 68.269%\n",
            "epoch:46 | Train Loss: 0.270 | Train Acc: 92.882% | Val Loss: 1.017 | Val Acc: 67.058%\n",
            "epoch:47 | Train Loss: 0.247 | Train Acc: 93.767% | Val Loss: 0.989 | Val Acc: 68.676%\n",
            "epoch:48 | Train Loss: 0.229 | Train Acc: 94.400% | Val Loss: 1.068 | Val Acc: 66.557%\n",
            "epoch:49 | Train Loss: 0.203 | Train Acc: 95.517% | Val Loss: 1.008 | Val Acc: 68.323%\n",
            "epoch:50 | Train Loss: 0.183 | Train Acc: 96.178% | Val Loss: 1.044 | Val Acc: 67.787%\n",
            "epoch:51 | Train Loss: 0.167 | Train Acc: 96.780% | Val Loss: 1.055 | Val Acc: 68.039%\n",
            "epoch:52 | Train Loss: 0.150 | Train Acc: 97.319% | Val Loss: 1.084 | Val Acc: 67.040%\n",
            "epoch:53 | Train Loss: 0.136 | Train Acc: 97.757% | Val Loss: 1.194 | Val Acc: 65.897%\n",
            "epoch:54 | Train Loss: 0.123 | Train Acc: 98.126% | Val Loss: 1.119 | Val Acc: 67.948%\n",
            "epoch:55 | Train Loss: 0.111 | Train Acc: 98.510% | Val Loss: 1.133 | Val Acc: 67.557%\n",
            "epoch:56 | Train Loss: 0.099 | Train Acc: 98.805% | Val Loss: 1.314 | Val Acc: 65.270%\n",
            "epoch:57 | Train Loss: 0.088 | Train Acc: 99.029% | Val Loss: 1.277 | Val Acc: 65.379%\n",
            "epoch:58 | Train Loss: 0.081 | Train Acc: 99.208% | Val Loss: 1.196 | Val Acc: 67.036%\n",
            "epoch:59 | Train Loss: 0.070 | Train Acc: 99.436% | Val Loss: 1.228 | Val Acc: 66.401%\n",
            "epoch:60 | Train Loss: 0.063 | Train Acc: 99.550% | Val Loss: 1.192 | Val Acc: 67.741%\n",
            "epoch:61 | Train Loss: 0.057 | Train Acc: 99.663% | Val Loss: 1.199 | Val Acc: 67.631%\n",
            "epoch:62 | Train Loss: 0.052 | Train Acc: 99.729% | Val Loss: 1.227 | Val Acc: 67.729%\n",
            "epoch:63 | Train Loss: 0.048 | Train Acc: 99.740% | Val Loss: 1.215 | Val Acc: 67.375%\n",
            "epoch:64 | Train Loss: 0.043 | Train Acc: 99.815% | Val Loss: 1.275 | Val Acc: 66.613%\n",
            "epoch:65 | Train Loss: 0.040 | Train Acc: 99.860% | Val Loss: 1.252 | Val Acc: 67.329%\n",
            "epoch:66 | Train Loss: 0.038 | Train Acc: 99.896% | Val Loss: 1.249 | Val Acc: 67.253%\n",
            "epoch:67 | Train Loss: 0.034 | Train Acc: 99.933% | Val Loss: 1.276 | Val Acc: 67.292%\n",
            "epoch:68 | Train Loss: 0.031 | Train Acc: 99.942% | Val Loss: 1.259 | Val Acc: 67.670%\n",
            "epoch:69 | Train Loss: 0.028 | Train Acc: 99.927% | Val Loss: 1.307 | Val Acc: 67.312%\n",
            "epoch:70 | Train Loss: 0.026 | Train Acc: 99.962% | Val Loss: 1.270 | Val Acc: 67.954%\n",
            "epoch:71 | Train Loss: 0.025 | Train Acc: 99.947% | Val Loss: 1.289 | Val Acc: 67.375%\n",
            "epoch:72 | Train Loss: 0.023 | Train Acc: 99.987% | Val Loss: 1.288 | Val Acc: 68.169%\n",
            "epoch:73 | Train Loss: 0.023 | Train Acc: 99.969% | Val Loss: 1.317 | Val Acc: 67.322%\n",
            "epoch:74 | Train Loss: 0.021 | Train Acc: 99.978% | Val Loss: 1.322 | Val Acc: 67.639%\n",
            "epoch:75 | Train Loss: 0.020 | Train Acc: 99.973% | Val Loss: 1.312 | Val Acc: 67.223%\n",
            "epoch:76 | Train Loss: 0.019 | Train Acc: 99.987% | Val Loss: 1.336 | Val Acc: 67.188%\n",
            "epoch:77 | Train Loss: 0.018 | Train Acc: 99.984% | Val Loss: 1.335 | Val Acc: 67.663%\n",
            "epoch:78 | Train Loss: 0.016 | Train Acc: 99.991% | Val Loss: 1.331 | Val Acc: 67.822%\n",
            "epoch:79 | Train Loss: 0.015 | Train Acc: 99.998% | Val Loss: 1.340 | Val Acc: 67.722%\n",
            "epoch:80 | Train Loss: 0.015 | Train Acc: 99.987% | Val Loss: 1.348 | Val Acc: 67.641%\n"
          ]
        }
      ]
    },
    {
      "cell_type": "code",
      "source": [
        "t.test(test_iterator)"
      ],
      "metadata": {
        "id": "V4Ki2NUDBRrT",
        "colab": {
          "base_uri": "https://localhost:8080/"
        },
        "outputId": "83dcbbc8-edc0-4d5e-aa8c-eef3fbc5d203"
      },
      "execution_count": 7,
      "outputs": [
        {
          "output_type": "stream",
          "name": "stdout",
          "text": [
            "Test Loss: 0.914 | Test Acc: 68.057%\n"
          ]
        }
      ]
    },
    {
      "cell_type": "markdown",
      "source": [
        "## Plot Result"
      ],
      "metadata": {
        "id": "DRInHpYph0SL"
      }
    },
    {
      "cell_type": "code",
      "source": [
        "t.plot_acc()"
      ],
      "metadata": {
        "colab": {
          "base_uri": "https://localhost:8080/",
          "height": 265
        },
        "id": "cTLWY9ich4Th",
        "outputId": "8121eb87-9a96-4a49-fcd6-6028cd1d03b9"
      },
      "execution_count": 8,
      "outputs": [
        {
          "output_type": "display_data",
          "data": {
            "text/plain": [
              "<Figure size 432x288 with 1 Axes>"
            ],
            "image/png": "[encoded data removed]"
          },
          "metadata": {
            "needs_background": "light"
          }
        }
      ]
    },
    {
      "cell_type": "code",
      "source": [
        "t.plot_loss()"
      ],
      "metadata": {
        "colab": {
          "base_uri": "https://localhost:8080/",
          "height": 265
        },
        "id": "i27XeMWgi3_o",
        "outputId": "e027ffa2-0520-40f9-94ce-c81045738f7a"
      },
      "execution_count": 9,
      "outputs": [
        {
          "output_type": "display_data",
          "data": {
            "text/plain": [
              "<Figure size 432x288 with 1 Axes>"
            ],
            "image/png": "[encoded data removed]"
          },
          "metadata": {
            "needs_background": "light"
          }
        }
      ]
    }
  ]
}