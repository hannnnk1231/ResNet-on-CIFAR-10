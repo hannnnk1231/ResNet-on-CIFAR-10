{
  "nbformat": 4,
  "nbformat_minor": 0,
  "metadata": {
    "colab": {
      "provenance": []
    },
    "kernelspec": {
      "name": "python3",
      "display_name": "Python 3"
    },
    "language_info": {
      "name": "python"
    },
    "gpuClass": "standard",
    "accelerator": "GPU"
  },
  "cells": [
    {
      "cell_type": "code",
      "execution_count": 1,
      "metadata": {
        "id": "PXDEvoP8Y_ST"
      },
      "outputs": [],
      "source": [
        "import torch\n",
        "import torch.nn as nn\n",
        "import torchvision.transforms as transforms\n",
        "from torchsummary import summary\n",
        "import torch.optim as optim\n",
        "\n",
        "from utils.data import Data\n",
        "from utils.model import ResNet\n",
        "from utils.training import Training"
      ]
    },
    {
      "cell_type": "code",
      "source": [
        "BATCH_SIZE = 256\n",
        "VAILD_RATIO = 0.9\n",
        "LR = 1e-3\n",
        "EPOCHS = 80\n",
        "LOG_FILE_NAME = 'res14_log.txt'\n",
        "\n",
        "device = 'cuda' if torch.cuda.is_available() else 'cpu'"
      ],
      "metadata": {
        "id": "iyJOiF4Zj7-t"
      },
      "execution_count": 2,
      "outputs": []
    },
    {
      "cell_type": "markdown",
      "source": [
        "## Data Preparation"
      ],
      "metadata": {
        "id": "YUbFbRDuZgZf"
      }
    },
    {
      "cell_type": "code",
      "source": [
        "data = Data(batch_size = BATCH_SIZE, valid_ratio = VAILD_RATIO)\n",
        "train_iterator, valid_iterator = data.getTrainValData()\n",
        "test_iterator = data.getTestData()"
      ],
      "metadata": {
        "colab": {
          "base_uri": "https://localhost:8080/"
        },
        "id": "btsf_HWLVDat",
        "outputId": "93a58f0b-06a3-47e6-c26c-13d500a104b3"
      },
      "execution_count": 3,
      "outputs": [
        {
          "output_type": "stream",
          "name": "stdout",
          "text": [
            "Files already downloaded and verified\n",
            "Files already downloaded and verified\n",
            "Files already downloaded and verified\n"
          ]
        }
      ]
    },
    {
      "cell_type": "markdown",
      "source": [
        "## Modeling"
      ],
      "metadata": {
        "id": "QWIkMT6RbVWt"
      }
    },
    {
      "cell_type": "code",
      "source": [
        "model = ResNet([2, 2, 2]).to(device)\n",
        "summary(model, (3, 32, 32))"
      ],
      "metadata": {
        "colab": {
          "base_uri": "https://localhost:8080/"
        },
        "id": "vpte7ypce2aW",
        "outputId": "bc09d65b-bac5-4171-c89d-1e3a1c2c7534"
      },
      "execution_count": 4,
      "outputs": [
        {
          "output_type": "stream",
          "name": "stdout",
          "text": [
            "----------------------------------------------------------------\n",
            "        Layer (type)               Output Shape         Param #\n",
            "================================================================\n",
            "            Conv2d-1           [-1, 64, 32, 32]           1,728\n",
            "       BatchNorm2d-2           [-1, 64, 32, 32]             128\n",
            "            Conv2d-3           [-1, 64, 32, 32]          36,864\n",
            "       BatchNorm2d-4           [-1, 64, 32, 32]             128\n",
            "            Conv2d-5           [-1, 64, 32, 32]          36,864\n",
            "       BatchNorm2d-6           [-1, 64, 32, 32]             128\n",
            "     ResidualBlock-7           [-1, 64, 32, 32]               0\n",
            "            Conv2d-8           [-1, 64, 32, 32]          36,864\n",
            "       BatchNorm2d-9           [-1, 64, 32, 32]             128\n",
            "           Conv2d-10           [-1, 64, 32, 32]          36,864\n",
            "      BatchNorm2d-11           [-1, 64, 32, 32]             128\n",
            "    ResidualBlock-12           [-1, 64, 32, 32]               0\n",
            "           Conv2d-13          [-1, 128, 16, 16]          73,728\n",
            "      BatchNorm2d-14          [-1, 128, 16, 16]             256\n",
            "           Conv2d-15          [-1, 128, 16, 16]         147,456\n",
            "      BatchNorm2d-16          [-1, 128, 16, 16]             256\n",
            "           Conv2d-17          [-1, 128, 16, 16]           8,192\n",
            "      BatchNorm2d-18          [-1, 128, 16, 16]             256\n",
            "    ResidualBlock-19          [-1, 128, 16, 16]               0\n",
            "           Conv2d-20          [-1, 128, 16, 16]         147,456\n",
            "      BatchNorm2d-21          [-1, 128, 16, 16]             256\n",
            "           Conv2d-22          [-1, 128, 16, 16]         147,456\n",
            "      BatchNorm2d-23          [-1, 128, 16, 16]             256\n",
            "    ResidualBlock-24          [-1, 128, 16, 16]               0\n",
            "           Conv2d-25            [-1, 256, 8, 8]         294,912\n",
            "      BatchNorm2d-26            [-1, 256, 8, 8]             512\n",
            "           Conv2d-27            [-1, 256, 8, 8]         589,824\n",
            "      BatchNorm2d-28            [-1, 256, 8, 8]             512\n",
            "           Conv2d-29            [-1, 256, 8, 8]          32,768\n",
            "      BatchNorm2d-30            [-1, 256, 8, 8]             512\n",
            "    ResidualBlock-31            [-1, 256, 8, 8]               0\n",
            "           Conv2d-32            [-1, 256, 8, 8]         589,824\n",
            "      BatchNorm2d-33            [-1, 256, 8, 8]             512\n",
            "           Conv2d-34            [-1, 256, 8, 8]         589,824\n",
            "      BatchNorm2d-35            [-1, 256, 8, 8]             512\n",
            "    ResidualBlock-36            [-1, 256, 8, 8]               0\n",
            "           Linear-37                   [-1, 10]          10,250\n",
            "================================================================\n",
            "Total params: 2,785,354\n",
            "Trainable params: 2,785,354\n",
            "Non-trainable params: 0\n",
            "----------------------------------------------------------------\n",
            "Input size (MB): 0.01\n",
            "Forward/backward pass size (MB): 10.50\n",
            "Params size (MB): 10.63\n",
            "Estimated Total Size (MB): 21.14\n",
            "----------------------------------------------------------------\n"
          ]
        }
      ]
    },
    {
      "cell_type": "code",
      "source": [
        "criterion = nn.CrossEntropyLoss()\n",
        "optimizer = optim.SGD(model.parameters(), lr=LR)\n",
        "\n",
        "t = Training(\n",
        "    device = device,\n",
        "    model = model, \n",
        "    optimizer = optimizer, \n",
        "    criterion = criterion, \n",
        "    epochs = EPOCHS)"
      ],
      "metadata": {
        "id": "nHgAnLIQe4q5"
      },
      "execution_count": 5,
      "outputs": []
    },
    {
      "cell_type": "code",
      "source": [
        "t.start_training(train_iterator, valid_iterator, logFileName = LOG_FILE_NAME)"
      ],
      "metadata": {
        "id": "Y46vNlbQq3xb",
        "colab": {
          "base_uri": "https://localhost:8080/"
        },
        "outputId": "d76c858e-1e88-4e0b-803d-e6465ccbaa75"
      },
      "execution_count": 6,
      "outputs": [
        {
          "output_type": "stream",
          "name": "stdout",
          "text": [
            "epoch:1 | Train Loss: 2.132 | Train Acc: 23.992% | Val Loss: 1.950 | Val Acc: 31.634%\n",
            "epoch:2 | Train Loss: 1.817 | Train Acc: 36.272% | Val Loss: 1.725 | Val Acc: 38.868%\n",
            "epoch:3 | Train Loss: 1.658 | Train Acc: 40.955% | Val Loss: 1.619 | Val Acc: 41.542%\n",
            "epoch:4 | Train Loss: 1.569 | Train Acc: 43.812% | Val Loss: 1.555 | Val Acc: 43.279%\n",
            "epoch:5 | Train Loss: 1.505 | Train Acc: 46.021% | Val Loss: 1.507 | Val Acc: 44.887%\n",
            "epoch:6 | Train Loss: 1.453 | Train Acc: 47.611% | Val Loss: 1.463 | Val Acc: 46.788%\n",
            "epoch:7 | Train Loss: 1.408 | Train Acc: 49.335% | Val Loss: 1.429 | Val Acc: 47.652%\n",
            "epoch:8 | Train Loss: 1.367 | Train Acc: 51.008% | Val Loss: 1.390 | Val Acc: 49.283%\n",
            "epoch:9 | Train Loss: 1.330 | Train Acc: 52.254% | Val Loss: 1.361 | Val Acc: 50.535%\n",
            "epoch:10 | Train Loss: 1.296 | Train Acc: 53.563% | Val Loss: 1.321 | Val Acc: 51.432%\n",
            "epoch:11 | Train Loss: 1.265 | Train Acc: 54.835% | Val Loss: 1.293 | Val Acc: 53.610%\n",
            "epoch:12 | Train Loss: 1.234 | Train Acc: 56.093% | Val Loss: 1.283 | Val Acc: 53.663%\n",
            "epoch:13 | Train Loss: 1.205 | Train Acc: 57.375% | Val Loss: 1.245 | Val Acc: 54.704%\n",
            "epoch:14 | Train Loss: 1.181 | Train Acc: 58.217% | Val Loss: 1.231 | Val Acc: 55.387%\n",
            "epoch:15 | Train Loss: 1.154 | Train Acc: 59.120% | Val Loss: 1.196 | Val Acc: 57.397%\n",
            "epoch:16 | Train Loss: 1.129 | Train Acc: 60.123% | Val Loss: 1.183 | Val Acc: 57.831%\n",
            "epoch:17 | Train Loss: 1.103 | Train Acc: 61.058% | Val Loss: 1.152 | Val Acc: 59.184%\n",
            "epoch:18 | Train Loss: 1.078 | Train Acc: 61.934% | Val Loss: 1.153 | Val Acc: 59.064%\n",
            "epoch:19 | Train Loss: 1.053 | Train Acc: 62.775% | Val Loss: 1.104 | Val Acc: 61.369%\n",
            "epoch:20 | Train Loss: 1.031 | Train Acc: 63.696% | Val Loss: 1.097 | Val Acc: 61.001%\n",
            "epoch:21 | Train Loss: 1.008 | Train Acc: 64.426% | Val Loss: 1.108 | Val Acc: 60.942%\n",
            "epoch:22 | Train Loss: 0.986 | Train Acc: 65.277% | Val Loss: 1.071 | Val Acc: 62.251%\n",
            "epoch:23 | Train Loss: 0.965 | Train Acc: 66.186% | Val Loss: 1.053 | Val Acc: 63.611%\n",
            "epoch:24 | Train Loss: 0.946 | Train Acc: 66.877% | Val Loss: 1.034 | Val Acc: 63.550%\n",
            "epoch:25 | Train Loss: 0.927 | Train Acc: 67.379% | Val Loss: 1.025 | Val Acc: 63.730%\n",
            "epoch:26 | Train Loss: 0.910 | Train Acc: 68.243% | Val Loss: 1.040 | Val Acc: 63.000%\n",
            "epoch:27 | Train Loss: 0.892 | Train Acc: 68.780% | Val Loss: 1.018 | Val Acc: 64.688%\n",
            "epoch:28 | Train Loss: 0.874 | Train Acc: 69.463% | Val Loss: 0.985 | Val Acc: 65.386%\n",
            "epoch:29 | Train Loss: 0.859 | Train Acc: 70.070% | Val Loss: 0.982 | Val Acc: 65.176%\n",
            "epoch:30 | Train Loss: 0.843 | Train Acc: 70.771% | Val Loss: 0.956 | Val Acc: 66.145%\n",
            "epoch:31 | Train Loss: 0.827 | Train Acc: 71.289% | Val Loss: 0.978 | Val Acc: 65.303%\n",
            "epoch:32 | Train Loss: 0.811 | Train Acc: 71.955% | Val Loss: 0.932 | Val Acc: 67.325%\n",
            "epoch:33 | Train Loss: 0.795 | Train Acc: 72.321% | Val Loss: 0.923 | Val Acc: 67.332%\n",
            "epoch:34 | Train Loss: 0.782 | Train Acc: 72.938% | Val Loss: 0.924 | Val Acc: 66.944%\n",
            "epoch:35 | Train Loss: 0.766 | Train Acc: 73.692% | Val Loss: 0.899 | Val Acc: 67.955%\n",
            "epoch:36 | Train Loss: 0.753 | Train Acc: 74.059% | Val Loss: 0.889 | Val Acc: 68.656%\n",
            "epoch:37 | Train Loss: 0.740 | Train Acc: 74.451% | Val Loss: 0.944 | Val Acc: 66.873%\n",
            "epoch:38 | Train Loss: 0.727 | Train Acc: 74.785% | Val Loss: 0.885 | Val Acc: 68.934%\n",
            "epoch:39 | Train Loss: 0.712 | Train Acc: 75.393% | Val Loss: 0.890 | Val Acc: 67.757%\n",
            "epoch:40 | Train Loss: 0.701 | Train Acc: 75.805% | Val Loss: 0.889 | Val Acc: 68.128%\n",
            "epoch:41 | Train Loss: 0.687 | Train Acc: 76.475% | Val Loss: 0.894 | Val Acc: 68.413%\n",
            "epoch:42 | Train Loss: 0.676 | Train Acc: 76.916% | Val Loss: 0.862 | Val Acc: 69.589%\n",
            "epoch:43 | Train Loss: 0.663 | Train Acc: 77.326% | Val Loss: 0.906 | Val Acc: 67.727%\n",
            "epoch:44 | Train Loss: 0.650 | Train Acc: 77.830% | Val Loss: 0.866 | Val Acc: 69.073%\n",
            "epoch:45 | Train Loss: 0.639 | Train Acc: 78.165% | Val Loss: 0.843 | Val Acc: 70.101%\n",
            "epoch:46 | Train Loss: 0.627 | Train Acc: 78.800% | Val Loss: 0.831 | Val Acc: 70.804%\n",
            "epoch:47 | Train Loss: 0.615 | Train Acc: 79.264% | Val Loss: 0.840 | Val Acc: 70.555%\n",
            "epoch:48 | Train Loss: 0.604 | Train Acc: 79.600% | Val Loss: 0.839 | Val Acc: 70.340%\n",
            "epoch:49 | Train Loss: 0.593 | Train Acc: 80.198% | Val Loss: 0.830 | Val Acc: 70.794%\n",
            "epoch:50 | Train Loss: 0.579 | Train Acc: 80.643% | Val Loss: 0.846 | Val Acc: 70.201%\n",
            "epoch:51 | Train Loss: 0.569 | Train Acc: 80.943% | Val Loss: 0.843 | Val Acc: 70.253%\n",
            "epoch:52 | Train Loss: 0.557 | Train Acc: 81.423% | Val Loss: 0.829 | Val Acc: 71.106%\n",
            "epoch:53 | Train Loss: 0.546 | Train Acc: 82.027% | Val Loss: 0.832 | Val Acc: 70.301%\n",
            "epoch:54 | Train Loss: 0.531 | Train Acc: 82.508% | Val Loss: 0.817 | Val Acc: 71.495%\n",
            "epoch:55 | Train Loss: 0.523 | Train Acc: 82.895% | Val Loss: 0.872 | Val Acc: 69.678%\n",
            "epoch:56 | Train Loss: 0.511 | Train Acc: 83.245% | Val Loss: 0.842 | Val Acc: 71.160%\n",
            "epoch:57 | Train Loss: 0.499 | Train Acc: 83.637% | Val Loss: 0.873 | Val Acc: 69.409%\n",
            "epoch:58 | Train Loss: 0.488 | Train Acc: 84.195% | Val Loss: 0.816 | Val Acc: 71.750%\n",
            "epoch:59 | Train Loss: 0.476 | Train Acc: 84.754% | Val Loss: 0.855 | Val Acc: 70.221%\n",
            "epoch:60 | Train Loss: 0.466 | Train Acc: 85.129% | Val Loss: 0.833 | Val Acc: 71.561%\n",
            "epoch:61 | Train Loss: 0.452 | Train Acc: 85.545% | Val Loss: 0.810 | Val Acc: 72.017%\n",
            "epoch:62 | Train Loss: 0.442 | Train Acc: 85.890% | Val Loss: 0.868 | Val Acc: 69.546%\n",
            "epoch:63 | Train Loss: 0.430 | Train Acc: 86.470% | Val Loss: 0.836 | Val Acc: 71.994%\n",
            "epoch:64 | Train Loss: 0.416 | Train Acc: 87.091% | Val Loss: 0.848 | Val Acc: 71.412%\n",
            "epoch:65 | Train Loss: 0.407 | Train Acc: 87.374% | Val Loss: 1.100 | Val Acc: 65.208%\n",
            "epoch:66 | Train Loss: 0.393 | Train Acc: 87.939% | Val Loss: 0.817 | Val Acc: 72.047%\n",
            "epoch:67 | Train Loss: 0.381 | Train Acc: 88.344% | Val Loss: 0.884 | Val Acc: 70.172%\n",
            "epoch:68 | Train Loss: 0.370 | Train Acc: 88.921% | Val Loss: 0.871 | Val Acc: 70.404%\n",
            "epoch:69 | Train Loss: 0.359 | Train Acc: 89.439% | Val Loss: 0.850 | Val Acc: 71.579%\n",
            "epoch:70 | Train Loss: 0.346 | Train Acc: 89.902% | Val Loss: 0.833 | Val Acc: 71.525%\n",
            "epoch:71 | Train Loss: 0.334 | Train Acc: 90.213% | Val Loss: 0.887 | Val Acc: 71.089%\n",
            "epoch:72 | Train Loss: 0.324 | Train Acc: 90.829% | Val Loss: 0.924 | Val Acc: 70.973%\n",
            "epoch:73 | Train Loss: 0.312 | Train Acc: 91.090% | Val Loss: 0.854 | Val Acc: 71.713%\n",
            "epoch:74 | Train Loss: 0.300 | Train Acc: 91.777% | Val Loss: 0.850 | Val Acc: 71.828%\n",
            "epoch:75 | Train Loss: 0.290 | Train Acc: 92.052% | Val Loss: 0.860 | Val Acc: 72.167%\n",
            "epoch:76 | Train Loss: 0.280 | Train Acc: 92.569% | Val Loss: 0.876 | Val Acc: 71.515%\n",
            "epoch:77 | Train Loss: 0.268 | Train Acc: 92.978% | Val Loss: 0.879 | Val Acc: 71.314%\n",
            "epoch:78 | Train Loss: 0.256 | Train Acc: 93.487% | Val Loss: 0.943 | Val Acc: 69.987%\n",
            "epoch:79 | Train Loss: 0.246 | Train Acc: 93.844% | Val Loss: 0.885 | Val Acc: 71.739%\n",
            "epoch:80 | Train Loss: 0.234 | Train Acc: 94.323% | Val Loss: 0.881 | Val Acc: 71.225%\n"
          ]
        }
      ]
    },
    {
      "cell_type": "code",
      "source": [
        "t.test(test_iterator)"
      ],
      "metadata": {
        "id": "V4Ki2NUDBRrT",
        "colab": {
          "base_uri": "https://localhost:8080/"
        },
        "outputId": "d27a4ac8-610e-4938-9d51-c7d5f3d17ef2"
      },
      "execution_count": 7,
      "outputs": [
        {
          "output_type": "stream",
          "name": "stdout",
          "text": [
            "Test Loss: 0.803 | Test Acc: 72.090%\n"
          ]
        }
      ]
    },
    {
      "cell_type": "markdown",
      "source": [
        "## Plot Result"
      ],
      "metadata": {
        "id": "DRInHpYph0SL"
      }
    },
    {
      "cell_type": "code",
      "source": [
        "t.plot_acc()"
      ],
      "metadata": {
        "colab": {
          "base_uri": "https://localhost:8080/",
          "height": 265
        },
        "id": "cTLWY9ich4Th",
        "outputId": "b6c4360b-cc8a-4abd-8c50-4d30dce7b524"
      },
      "execution_count": 8,
      "outputs": [
        {
          "output_type": "display_data",
          "data": {
            "text/plain": [
              "<Figure size 432x288 with 1 Axes>"
            ],
            "image/png": "[encoded data removed]"
          },
          "metadata": {
            "needs_background": "light"
          }
        }
      ]
    },
    {
      "cell_type": "code",
      "source": [
        "t.plot_loss()"
      ],
      "metadata": {
        "colab": {
          "base_uri": "https://localhost:8080/",
          "height": 265
        },
        "id": "i27XeMWgi3_o",
        "outputId": "c0820d52-1880-4078-db26-6343191a7be2"
      },
      "execution_count": 9,
      "outputs": [
        {
          "output_type": "display_data",
          "data": {
            "text/plain": [
              "<Figure size 432x288 with 1 Axes>"
            ],
            "image/png": "[encoded data removed]"
          },
          "metadata": {
            "needs_background": "light"
          }
        }
      ]
    }
  ]
}