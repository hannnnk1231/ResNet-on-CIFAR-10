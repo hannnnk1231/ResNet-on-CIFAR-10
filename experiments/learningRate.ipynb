{
  "nbformat": 4,
  "nbformat_minor": 0,
  "metadata": {
    "colab": {
      "provenance": []
    },
    "kernelspec": {
      "name": "python3",
      "display_name": "Python 3"
    },
    "language_info": {
      "name": "python"
    },
    "gpuClass": "standard",
    "accelerator": "GPU",
    "widgets": {
      "application/vnd.jupyter.widget-state+json": {
        "68169fc87bf0419bb8e9475e71d80eb9": {
          "model_module": "@jupyter-widgets/controls",
          "model_name": "HBoxModel",
          "model_module_version": "1.5.0",
          "state": {
            "_dom_classes": [],
            "_model_module": "@jupyter-widgets/controls",
            "_model_module_version": "1.5.0",
            "_model_name": "HBoxModel",
            "_view_count": null,
            "_view_module": "@jupyter-widgets/controls",
            "_view_module_version": "1.5.0",
            "_view_name": "HBoxView",
            "box_style": "",
            "children": [
              "IPY_MODEL_f5ec36953efe455d9901cde886a15a58",
              "IPY_MODEL_4f450b40f8a145deae288e4828e026f3",
              "IPY_MODEL_f657473b0d684cfd8b51cffd6d68f936"
            ],
            "layout": "IPY_MODEL_febacb146f61496ab846f93d86504374"
          }
        },
        "f5ec36953efe455d9901cde886a15a58": {
          "model_module": "@jupyter-widgets/controls",
          "model_name": "HTMLModel",
          "model_module_version": "1.5.0",
          "state": {
            "_dom_classes": [],
            "_model_module": "@jupyter-widgets/controls",
            "_model_module_version": "1.5.0",
            "_model_name": "HTMLModel",
            "_view_count": null,
            "_view_module": "@jupyter-widgets/controls",
            "_view_module_version": "1.5.0",
            "_view_name": "HTMLView",
            "description": "",
            "description_tooltip": null,
            "layout": "IPY_MODEL_42b6c482934b412abaa541d46d5c622e",
            "placeholder": "​",
            "style": "IPY_MODEL_3d26ccec9941463d9d81fb277d2d1bb0",
            "value": "100%"
          }
        },
        "4f450b40f8a145deae288e4828e026f3": {
          "model_module": "@jupyter-widgets/controls",
          "model_name": "FloatProgressModel",
          "model_module_version": "1.5.0",
          "state": {
            "_dom_classes": [],
            "_model_module": "@jupyter-widgets/controls",
            "_model_module_version": "1.5.0",
            "_model_name": "FloatProgressModel",
            "_view_count": null,
            "_view_module": "@jupyter-widgets/controls",
            "_view_module_version": "1.5.0",
            "_view_name": "ProgressView",
            "bar_style": "success",
            "description": "",
            "description_tooltip": null,
            "layout": "IPY_MODEL_627bf124a7784a898eba674faacddb11",
            "max": 170498071,
            "min": 0,
            "orientation": "horizontal",
            "style": "IPY_MODEL_ba93b64318ac4991ad9bf36a9cd6d2e1",
            "value": 170498071
          }
        },
        "f657473b0d684cfd8b51cffd6d68f936": {
          "model_module": "@jupyter-widgets/controls",
          "model_name": "HTMLModel",
          "model_module_version": "1.5.0",
          "state": {
            "_dom_classes": [],
            "_model_module": "@jupyter-widgets/controls",
            "_model_module_version": "1.5.0",
            "_model_name": "HTMLModel",
            "_view_count": null,
            "_view_module": "@jupyter-widgets/controls",
            "_view_module_version": "1.5.0",
            "_view_name": "HTMLView",
            "description": "",
            "description_tooltip": null,
            "layout": "IPY_MODEL_f13dcaa68681486c8fafbb5ce5bd224c",
            "placeholder": "​",
            "style": "IPY_MODEL_fa7e0ab84fa34be6a9c35329d8d13405",
            "value": " 170498071/170498071 [00:03&lt;00:00, 55286372.94it/s]"
          }
        },
        "febacb146f61496ab846f93d86504374": {
          "model_module": "@jupyter-widgets/base",
          "model_name": "LayoutModel",
          "model_module_version": "1.2.0",
          "state": {
            "_model_module": "@jupyter-widgets/base",
            "_model_module_version": "1.2.0",
            "_model_name": "LayoutModel",
            "_view_count": null,
            "_view_module": "@jupyter-widgets/base",
            "_view_module_version": "1.2.0",
            "_view_name": "LayoutView",
            "align_content": null,
            "align_items": null,
            "align_self": null,
            "border": null,
            "bottom": null,
            "display": null,
            "flex": null,
            "flex_flow": null,
            "grid_area": null,
            "grid_auto_columns": null,
            "grid_auto_flow": null,
            "grid_auto_rows": null,
            "grid_column": null,
            "grid_gap": null,
            "grid_row": null,
            "grid_template_areas": null,
            "grid_template_columns": null,
            "grid_template_rows": null,
            "height": null,
            "justify_content": null,
            "justify_items": null,
            "left": null,
            "margin": null,
            "max_height": null,
            "max_width": null,
            "min_height": null,
            "min_width": null,
            "object_fit": null,
            "object_position": null,
            "order": null,
            "overflow": null,
            "overflow_x": null,
            "overflow_y": null,
            "padding": null,
            "right": null,
            "top": null,
            "visibility": null,
            "width": null
          }
        },
        "42b6c482934b412abaa541d46d5c622e": {
          "model_module": "@jupyter-widgets/base",
          "model_name": "LayoutModel",
          "model_module_version": "1.2.0",
          "state": {
            "_model_module": "@jupyter-widgets/base",
            "_model_module_version": "1.2.0",
            "_model_name": "LayoutModel",
            "_view_count": null,
            "_view_module": "@jupyter-widgets/base",
            "_view_module_version": "1.2.0",
            "_view_name": "LayoutView",
            "align_content": null,
            "align_items": null,
            "align_self": null,
            "border": null,
            "bottom": null,
            "display": null,
            "flex": null,
            "flex_flow": null,
            "grid_area": null,
            "grid_auto_columns": null,
            "grid_auto_flow": null,
            "grid_auto_rows": null,
            "grid_column": null,
            "grid_gap": null,
            "grid_row": null,
            "grid_template_areas": null,
            "grid_template_columns": null,
            "grid_template_rows": null,
            "height": null,
            "justify_content": null,
            "justify_items": null,
            "left": null,
            "margin": null,
            "max_height": null,
            "max_width": null,
            "min_height": null,
            "min_width": null,
            "object_fit": null,
            "object_position": null,
            "order": null,
            "overflow": null,
            "overflow_x": null,
            "overflow_y": null,
            "padding": null,
            "right": null,
            "top": null,
            "visibility": null,
            "width": null
          }
        },
        "3d26ccec9941463d9d81fb277d2d1bb0": {
          "model_module": "@jupyter-widgets/controls",
          "model_name": "DescriptionStyleModel",
          "model_module_version": "1.5.0",
          "state": {
            "_model_module": "@jupyter-widgets/controls",
            "_model_module_version": "1.5.0",
            "_model_name": "DescriptionStyleModel",
            "_view_count": null,
            "_view_module": "@jupyter-widgets/base",
            "_view_module_version": "1.2.0",
            "_view_name": "StyleView",
            "description_width": ""
          }
        },
        "627bf124a7784a898eba674faacddb11": {
          "model_module": "@jupyter-widgets/base",
          "model_name": "LayoutModel",
          "model_module_version": "1.2.0",
          "state": {
            "_model_module": "@jupyter-widgets/base",
            "_model_module_version": "1.2.0",
            "_model_name": "LayoutModel",
            "_view_count": null,
            "_view_module": "@jupyter-widgets/base",
            "_view_module_version": "1.2.0",
            "_view_name": "LayoutView",
            "align_content": null,
            "align_items": null,
            "align_self": null,
            "border": null,
            "bottom": null,
            "display": null,
            "flex": null,
            "flex_flow": null,
            "grid_area": null,
            "grid_auto_columns": null,
            "grid_auto_flow": null,
            "grid_auto_rows": null,
            "grid_column": null,
            "grid_gap": null,
            "grid_row": null,
            "grid_template_areas": null,
            "grid_template_columns": null,
            "grid_template_rows": null,
            "height": null,
            "justify_content": null,
            "justify_items": null,
            "left": null,
            "margin": null,
            "max_height": null,
            "max_width": null,
            "min_height": null,
            "min_width": null,
            "object_fit": null,
            "object_position": null,
            "order": null,
            "overflow": null,
            "overflow_x": null,
            "overflow_y": null,
            "padding": null,
            "right": null,
            "top": null,
            "visibility": null,
            "width": null
          }
        },
        "ba93b64318ac4991ad9bf36a9cd6d2e1": {
          "model_module": "@jupyter-widgets/controls",
          "model_name": "ProgressStyleModel",
          "model_module_version": "1.5.0",
          "state": {
            "_model_module": "@jupyter-widgets/controls",
            "_model_module_version": "1.5.0",
            "_model_name": "ProgressStyleModel",
            "_view_count": null,
            "_view_module": "@jupyter-widgets/base",
            "_view_module_version": "1.2.0",
            "_view_name": "StyleView",
            "bar_color": null,
            "description_width": ""
          }
        },
        "f13dcaa68681486c8fafbb5ce5bd224c": {
          "model_module": "@jupyter-widgets/base",
          "model_name": "LayoutModel",
          "model_module_version": "1.2.0",
          "state": {
            "_model_module": "@jupyter-widgets/base",
            "_model_module_version": "1.2.0",
            "_model_name": "LayoutModel",
            "_view_count": null,
            "_view_module": "@jupyter-widgets/base",
            "_view_module_version": "1.2.0",
            "_view_name": "LayoutView",
            "align_content": null,
            "align_items": null,
            "align_self": null,
            "border": null,
            "bottom": null,
            "display": null,
            "flex": null,
            "flex_flow": null,
            "grid_area": null,
            "grid_auto_columns": null,
            "grid_auto_flow": null,
            "grid_auto_rows": null,
            "grid_column": null,
            "grid_gap": null,
            "grid_row": null,
            "grid_template_areas": null,
            "grid_template_columns": null,
            "grid_template_rows": null,
            "height": null,
            "justify_content": null,
            "justify_items": null,
            "left": null,
            "margin": null,
            "max_height": null,
            "max_width": null,
            "min_height": null,
            "min_width": null,
            "object_fit": null,
            "object_position": null,
            "order": null,
            "overflow": null,
            "overflow_x": null,
            "overflow_y": null,
            "padding": null,
            "right": null,
            "top": null,
            "visibility": null,
            "width": null
          }
        },
        "fa7e0ab84fa34be6a9c35329d8d13405": {
          "model_module": "@jupyter-widgets/controls",
          "model_name": "DescriptionStyleModel",
          "model_module_version": "1.5.0",
          "state": {
            "_model_module": "@jupyter-widgets/controls",
            "_model_module_version": "1.5.0",
            "_model_name": "DescriptionStyleModel",
            "_view_count": null,
            "_view_module": "@jupyter-widgets/base",
            "_view_module_version": "1.2.0",
            "_view_name": "StyleView",
            "description_width": ""
          }
        }
      }
    }
  },
  "cells": [
    {
      "cell_type": "code",
      "execution_count": 1,
      "metadata": {
        "id": "PXDEvoP8Y_ST"
      },
      "outputs": [],
      "source": [
        "import torch\n",
        "import torch.nn as nn\n",
        "import torchvision.transforms as transforms\n",
        "from torchsummary import summary\n",
        "import torch.optim as optim\n",
        "\n",
        "import matplotlib.pyplot as plt\n",
        "\n",
        "from utils.data import Data\n",
        "from utils.model import ResNet\n",
        "from utils.training import Training"
      ]
    },
    {
      "cell_type": "code",
      "source": [
        "BATCH_SIZE = 256\n",
        "VAILD_RATIO = 0.9\n",
        "LR = 0.1\n",
        "EPOCHS = 100\n",
        "\n",
        "device = 'cuda' if torch.cuda.is_available() else 'cpu'"
      ],
      "metadata": {
        "id": "iyJOiF4Zj7-t"
      },
      "execution_count": 2,
      "outputs": []
    },
    {
      "cell_type": "markdown",
      "source": [
        "## Data Preparation"
      ],
      "metadata": {
        "id": "YUbFbRDuZgZf"
      }
    },
    {
      "cell_type": "code",
      "source": [
        "data = Data(batch_size = BATCH_SIZE, valid_ratio = VAILD_RATIO)\n",
        "\n",
        "train_transforms = transforms.Compose([\n",
        "                           transforms.RandomHorizontalFlip(),\n",
        "                           transforms.RandomCrop(32, padding = 4),\n",
        "                           transforms.ToTensor(),\n",
        "                           transforms.Normalize(mean = data.means, \n",
        "                                                std = data.stds)\n",
        "                       ])\n",
        "\n",
        "train_iterator, valid_iterator = data.getTrainValData(train_transforms)\n",
        "test_iterator = data.getTestData()"
      ],
      "metadata": {
        "colab": {
          "base_uri": "https://localhost:8080/",
          "height": 120,
          "referenced_widgets": [
            "68169fc87bf0419bb8e9475e71d80eb9",
            "f5ec36953efe455d9901cde886a15a58",
            "4f450b40f8a145deae288e4828e026f3",
            "f657473b0d684cfd8b51cffd6d68f936",
            "febacb146f61496ab846f93d86504374",
            "42b6c482934b412abaa541d46d5c622e",
            "3d26ccec9941463d9d81fb277d2d1bb0",
            "627bf124a7784a898eba674faacddb11",
            "ba93b64318ac4991ad9bf36a9cd6d2e1",
            "f13dcaa68681486c8fafbb5ce5bd224c",
            "fa7e0ab84fa34be6a9c35329d8d13405"
          ]
        },
        "id": "btsf_HWLVDat",
        "outputId": "f0a28c46-0a81-4a40-b2db-8b7289eeec5b"
      },
      "execution_count": 3,
      "outputs": [
        {
          "output_type": "stream",
          "name": "stdout",
          "text": [
            "Downloading https://www.cs.toronto.edu/~kriz/cifar-10-python.tar.gz to .data/cifar-10-python.tar.gz\n"
          ]
        },
        {
          "output_type": "display_data",
          "data": {
            "text/plain": [
              "  0%|          | 0/170498071 [00:00<?, ?it/s]"
            ],
            "application/vnd.jupyter.widget-view+json": {
              "version_major": 2,
              "version_minor": 0,
              "model_id": "68169fc87bf0419bb8e9475e71d80eb9"
            }
          },
          "metadata": {}
        },
        {
          "output_type": "stream",
          "name": "stdout",
          "text": [
            "Extracting .data/cifar-10-python.tar.gz to .data\n",
            "Files already downloaded and verified\n",
            "Files already downloaded and verified\n"
          ]
        }
      ]
    },
    {
      "cell_type": "markdown",
      "source": [
        "## Modeling"
      ],
      "metadata": {
        "id": "QWIkMT6RbVWt"
      }
    },
    {
      "cell_type": "code",
      "source": [
        "model = ResNet([2, 2, 2]).to(device)\n",
        "summary(model, (3, 32, 32))"
      ],
      "metadata": {
        "colab": {
          "base_uri": "https://localhost:8080/"
        },
        "id": "vpte7ypce2aW",
        "outputId": "6d7f188f-46ca-43c0-c9db-6e95f2fe41fd"
      },
      "execution_count": 4,
      "outputs": [
        {
          "output_type": "stream",
          "name": "stdout",
          "text": [
            "----------------------------------------------------------------\n",
            "        Layer (type)               Output Shape         Param #\n",
            "================================================================\n",
            "            Conv2d-1           [-1, 64, 32, 32]           1,728\n",
            "       BatchNorm2d-2           [-1, 64, 32, 32]             128\n",
            "            Conv2d-3           [-1, 64, 32, 32]          36,864\n",
            "       BatchNorm2d-4           [-1, 64, 32, 32]             128\n",
            "            Conv2d-5           [-1, 64, 32, 32]          36,864\n",
            "       BatchNorm2d-6           [-1, 64, 32, 32]             128\n",
            "     ResidualBlock-7           [-1, 64, 32, 32]               0\n",
            "            Conv2d-8           [-1, 64, 32, 32]          36,864\n",
            "       BatchNorm2d-9           [-1, 64, 32, 32]             128\n",
            "           Conv2d-10           [-1, 64, 32, 32]          36,864\n",
            "      BatchNorm2d-11           [-1, 64, 32, 32]             128\n",
            "    ResidualBlock-12           [-1, 64, 32, 32]               0\n",
            "           Conv2d-13          [-1, 128, 16, 16]          73,728\n",
            "      BatchNorm2d-14          [-1, 128, 16, 16]             256\n",
            "           Conv2d-15          [-1, 128, 16, 16]         147,456\n",
            "      BatchNorm2d-16          [-1, 128, 16, 16]             256\n",
            "           Conv2d-17          [-1, 128, 16, 16]           8,192\n",
            "      BatchNorm2d-18          [-1, 128, 16, 16]             256\n",
            "    ResidualBlock-19          [-1, 128, 16, 16]               0\n",
            "           Conv2d-20          [-1, 128, 16, 16]         147,456\n",
            "      BatchNorm2d-21          [-1, 128, 16, 16]             256\n",
            "           Conv2d-22          [-1, 128, 16, 16]         147,456\n",
            "      BatchNorm2d-23          [-1, 128, 16, 16]             256\n",
            "    ResidualBlock-24          [-1, 128, 16, 16]               0\n",
            "           Conv2d-25            [-1, 256, 8, 8]         294,912\n",
            "      BatchNorm2d-26            [-1, 256, 8, 8]             512\n",
            "           Conv2d-27            [-1, 256, 8, 8]         589,824\n",
            "      BatchNorm2d-28            [-1, 256, 8, 8]             512\n",
            "           Conv2d-29            [-1, 256, 8, 8]          32,768\n",
            "      BatchNorm2d-30            [-1, 256, 8, 8]             512\n",
            "    ResidualBlock-31            [-1, 256, 8, 8]               0\n",
            "           Conv2d-32            [-1, 256, 8, 8]         589,824\n",
            "      BatchNorm2d-33            [-1, 256, 8, 8]             512\n",
            "           Conv2d-34            [-1, 256, 8, 8]         589,824\n",
            "      BatchNorm2d-35            [-1, 256, 8, 8]             512\n",
            "    ResidualBlock-36            [-1, 256, 8, 8]               0\n",
            "           Linear-37                   [-1, 10]          10,250\n",
            "================================================================\n",
            "Total params: 2,785,354\n",
            "Trainable params: 2,785,354\n",
            "Non-trainable params: 0\n",
            "----------------------------------------------------------------\n",
            "Input size (MB): 0.01\n",
            "Forward/backward pass size (MB): 10.50\n",
            "Params size (MB): 10.63\n",
            "Estimated Total Size (MB): 21.14\n",
            "----------------------------------------------------------------\n"
          ]
        }
      ]
    },
    {
      "cell_type": "code",
      "source": [
        "criterion = nn.CrossEntropyLoss()\n",
        "optimizer = optim.SGD(model.parameters(), lr=LR)\n",
        "\n",
        "sgd = Training(\n",
        "    device = device,\n",
        "    model = model, \n",
        "    optimizer = optimizer, \n",
        "    criterion = criterion,\n",
        "    epochs = EPOCHS)\n",
        "\n",
        "sgd.start_training(train_iterator, valid_iterator, logFileName = 'SGD_1')"
      ],
      "metadata": {
        "colab": {
          "base_uri": "https://localhost:8080/"
        },
        "id": "Ah_B-Q5SbIm6",
        "outputId": "f4270d88-38f0-4cab-da25-de3612f2e091"
      },
      "execution_count": 7,
      "outputs": [
        {
          "output_type": "stream",
          "name": "stdout",
          "text": [
            "epoch:1 | Train Loss: 1.981 | Train Acc: 32.265% | Val Loss: 1.612 | Val Acc: 41.272%\n",
            "epoch:2 | Train Loss: 1.447 | Train Acc: 46.765% | Val Loss: 1.534 | Val Acc: 45.996%\n",
            "epoch:3 | Train Loss: 1.212 | Train Acc: 55.864% | Val Loss: 1.293 | Val Acc: 54.489%\n",
            "epoch:4 | Train Loss: 1.025 | Train Acc: 63.242% | Val Loss: 1.236 | Val Acc: 58.836%\n",
            "epoch:5 | Train Loss: 0.892 | Train Acc: 68.164% | Val Loss: 0.913 | Val Acc: 67.752%\n",
            "epoch:6 | Train Loss: 0.773 | Train Acc: 72.714% | Val Loss: 1.321 | Val Acc: 57.307%\n",
            "epoch:7 | Train Loss: 0.692 | Train Acc: 75.587% | Val Loss: 0.742 | Val Acc: 74.289%\n",
            "epoch:8 | Train Loss: 0.626 | Train Acc: 77.923% | Val Loss: 0.906 | Val Acc: 70.453%\n",
            "epoch:9 | Train Loss: 0.567 | Train Acc: 80.235% | Val Loss: 0.787 | Val Acc: 72.671%\n",
            "epoch:10 | Train Loss: 0.520 | Train Acc: 81.907% | Val Loss: 0.675 | Val Acc: 76.631%\n",
            "epoch:11 | Train Loss: 0.479 | Train Acc: 83.250% | Val Loss: 0.519 | Val Acc: 82.201%\n",
            "epoch:12 | Train Loss: 0.443 | Train Acc: 84.641% | Val Loss: 0.590 | Val Acc: 80.060%\n",
            "epoch:13 | Train Loss: 0.420 | Train Acc: 85.367% | Val Loss: 0.598 | Val Acc: 80.025%\n",
            "epoch:14 | Train Loss: 0.388 | Train Acc: 86.384% | Val Loss: 0.543 | Val Acc: 82.772%\n",
            "epoch:15 | Train Loss: 0.365 | Train Acc: 87.291% | Val Loss: 0.704 | Val Acc: 76.955%\n",
            "epoch:16 | Train Loss: 0.342 | Train Acc: 88.127% | Val Loss: 0.534 | Val Acc: 82.592%\n",
            "epoch:17 | Train Loss: 0.326 | Train Acc: 88.710% | Val Loss: 0.502 | Val Acc: 83.288%\n",
            "epoch:18 | Train Loss: 0.302 | Train Acc: 89.443% | Val Loss: 0.455 | Val Acc: 84.067%\n",
            "epoch:19 | Train Loss: 0.287 | Train Acc: 89.844% | Val Loss: 0.571 | Val Acc: 81.628%\n",
            "epoch:20 | Train Loss: 0.270 | Train Acc: 90.587% | Val Loss: 0.453 | Val Acc: 84.953%\n",
            "epoch:21 | Train Loss: 0.257 | Train Acc: 90.997% | Val Loss: 0.580 | Val Acc: 81.410%\n",
            "epoch:22 | Train Loss: 0.239 | Train Acc: 91.824% | Val Loss: 0.429 | Val Acc: 85.255%\n",
            "epoch:23 | Train Loss: 0.228 | Train Acc: 91.978% | Val Loss: 0.680 | Val Acc: 80.144%\n",
            "epoch:24 | Train Loss: 0.217 | Train Acc: 92.472% | Val Loss: 0.437 | Val Acc: 85.725%\n",
            "epoch:25 | Train Loss: 0.203 | Train Acc: 92.812% | Val Loss: 0.389 | Val Acc: 87.439%\n",
            "epoch:26 | Train Loss: 0.190 | Train Acc: 93.499% | Val Loss: 0.560 | Val Acc: 82.860%\n",
            "epoch:27 | Train Loss: 0.185 | Train Acc: 93.490% | Val Loss: 0.417 | Val Acc: 86.807%\n",
            "epoch:28 | Train Loss: 0.171 | Train Acc: 94.044% | Val Loss: 0.430 | Val Acc: 86.330%\n",
            "epoch:29 | Train Loss: 0.163 | Train Acc: 94.173% | Val Loss: 0.410 | Val Acc: 87.430%\n",
            "epoch:30 | Train Loss: 0.152 | Train Acc: 94.595% | Val Loss: 0.429 | Val Acc: 86.116%\n",
            "epoch:31 | Train Loss: 0.145 | Train Acc: 94.806% | Val Loss: 0.469 | Val Acc: 86.764%\n",
            "epoch:32 | Train Loss: 0.140 | Train Acc: 95.093% | Val Loss: 0.491 | Val Acc: 85.676%\n",
            "epoch:33 | Train Loss: 0.132 | Train Acc: 95.418% | Val Loss: 0.359 | Val Acc: 88.897%\n",
            "epoch:34 | Train Loss: 0.124 | Train Acc: 95.617% | Val Loss: 0.461 | Val Acc: 86.699%\n",
            "epoch:35 | Train Loss: 0.119 | Train Acc: 95.839% | Val Loss: 0.458 | Val Acc: 87.046%\n",
            "epoch:36 | Train Loss: 0.110 | Train Acc: 96.134% | Val Loss: 0.614 | Val Acc: 83.679%\n",
            "epoch:37 | Train Loss: 0.104 | Train Acc: 96.349% | Val Loss: 0.478 | Val Acc: 86.649%\n",
            "epoch:38 | Train Loss: 0.097 | Train Acc: 96.539% | Val Loss: 0.419 | Val Acc: 88.452%\n",
            "epoch:39 | Train Loss: 0.098 | Train Acc: 96.588% | Val Loss: 0.489 | Val Acc: 86.016%\n",
            "epoch:40 | Train Loss: 0.087 | Train Acc: 97.023% | Val Loss: 0.476 | Val Acc: 86.330%\n",
            "epoch:41 | Train Loss: 0.081 | Train Acc: 97.242% | Val Loss: 0.526 | Val Acc: 85.913%\n",
            "epoch:42 | Train Loss: 0.075 | Train Acc: 97.400% | Val Loss: 0.413 | Val Acc: 88.875%\n",
            "epoch:43 | Train Loss: 0.075 | Train Acc: 97.393% | Val Loss: 0.506 | Val Acc: 86.628%\n",
            "epoch:44 | Train Loss: 0.066 | Train Acc: 97.702% | Val Loss: 0.412 | Val Acc: 88.286%\n",
            "epoch:45 | Train Loss: 0.068 | Train Acc: 97.627% | Val Loss: 0.397 | Val Acc: 88.802%\n",
            "epoch:46 | Train Loss: 0.063 | Train Acc: 97.862% | Val Loss: 0.543 | Val Acc: 86.155%\n",
            "epoch:47 | Train Loss: 0.058 | Train Acc: 97.981% | Val Loss: 0.430 | Val Acc: 89.359%\n",
            "epoch:48 | Train Loss: 0.057 | Train Acc: 98.004% | Val Loss: 0.521 | Val Acc: 87.009%\n",
            "epoch:49 | Train Loss: 0.055 | Train Acc: 98.112% | Val Loss: 0.477 | Val Acc: 87.752%\n",
            "epoch:50 | Train Loss: 0.050 | Train Acc: 98.270% | Val Loss: 0.497 | Val Acc: 87.370%\n",
            "epoch:51 | Train Loss: 0.055 | Train Acc: 98.080% | Val Loss: 0.400 | Val Acc: 89.539%\n",
            "epoch:52 | Train Loss: 0.048 | Train Acc: 98.341% | Val Loss: 0.486 | Val Acc: 87.825%\n",
            "epoch:53 | Train Loss: 0.041 | Train Acc: 98.684% | Val Loss: 0.449 | Val Acc: 88.602%\n",
            "epoch:54 | Train Loss: 0.045 | Train Acc: 98.490% | Val Loss: 0.458 | Val Acc: 88.624%\n",
            "epoch:55 | Train Loss: 0.043 | Train Acc: 98.569% | Val Loss: 0.476 | Val Acc: 88.585%\n",
            "epoch:56 | Train Loss: 0.040 | Train Acc: 98.575% | Val Loss: 0.498 | Val Acc: 87.830%\n",
            "epoch:57 | Train Loss: 0.034 | Train Acc: 98.850% | Val Loss: 0.467 | Val Acc: 88.216%\n",
            "epoch:58 | Train Loss: 0.034 | Train Acc: 98.873% | Val Loss: 0.392 | Val Acc: 89.637%\n",
            "epoch:59 | Train Loss: 0.031 | Train Acc: 99.023% | Val Loss: 0.514 | Val Acc: 88.575%\n",
            "epoch:60 | Train Loss: 0.031 | Train Acc: 98.954% | Val Loss: 0.396 | Val Acc: 89.520%\n",
            "epoch:61 | Train Loss: 0.031 | Train Acc: 98.998% | Val Loss: 0.486 | Val Acc: 88.753%\n",
            "epoch:62 | Train Loss: 0.032 | Train Acc: 98.971% | Val Loss: 0.457 | Val Acc: 88.923%\n",
            "epoch:63 | Train Loss: 0.029 | Train Acc: 99.042% | Val Loss: 0.499 | Val Acc: 88.162%\n",
            "epoch:64 | Train Loss: 0.029 | Train Acc: 99.051% | Val Loss: 0.415 | Val Acc: 89.605%\n",
            "epoch:65 | Train Loss: 0.025 | Train Acc: 99.168% | Val Loss: 0.399 | Val Acc: 89.991%\n",
            "epoch:66 | Train Loss: 0.023 | Train Acc: 99.257% | Val Loss: 0.436 | Val Acc: 89.954%\n",
            "epoch:67 | Train Loss: 0.026 | Train Acc: 99.187% | Val Loss: 0.419 | Val Acc: 90.614%\n",
            "epoch:68 | Train Loss: 0.021 | Train Acc: 99.375% | Val Loss: 0.443 | Val Acc: 89.715%\n",
            "epoch:69 | Train Loss: 0.021 | Train Acc: 99.341% | Val Loss: 0.519 | Val Acc: 88.619%\n",
            "epoch:70 | Train Loss: 0.021 | Train Acc: 99.312% | Val Loss: 0.414 | Val Acc: 90.687%\n",
            "epoch:71 | Train Loss: 0.018 | Train Acc: 99.449% | Val Loss: 0.414 | Val Acc: 90.516%\n",
            "epoch:72 | Train Loss: 0.018 | Train Acc: 99.456% | Val Loss: 0.445 | Val Acc: 89.693%\n",
            "epoch:73 | Train Loss: 0.021 | Train Acc: 99.323% | Val Loss: 0.423 | Val Acc: 90.010%\n",
            "epoch:74 | Train Loss: 0.018 | Train Acc: 99.408% | Val Loss: 0.537 | Val Acc: 88.362%\n",
            "epoch:75 | Train Loss: 0.017 | Train Acc: 99.459% | Val Loss: 0.442 | Val Acc: 90.108%\n",
            "epoch:76 | Train Loss: 0.018 | Train Acc: 99.438% | Val Loss: 0.453 | Val Acc: 90.206%\n",
            "epoch:77 | Train Loss: 0.020 | Train Acc: 99.333% | Val Loss: 0.462 | Val Acc: 89.724%\n",
            "epoch:78 | Train Loss: 0.020 | Train Acc: 99.360% | Val Loss: 0.440 | Val Acc: 90.218%\n",
            "epoch:79 | Train Loss: 0.015 | Train Acc: 99.528% | Val Loss: 0.487 | Val Acc: 89.617%\n",
            "epoch:80 | Train Loss: 0.017 | Train Acc: 99.458% | Val Loss: 0.382 | Val Acc: 91.134%\n",
            "epoch:81 | Train Loss: 0.014 | Train Acc: 99.563% | Val Loss: 0.425 | Val Acc: 90.338%\n",
            "epoch:82 | Train Loss: 0.015 | Train Acc: 99.525% | Val Loss: 0.453 | Val Acc: 90.455%\n",
            "epoch:83 | Train Loss: 0.015 | Train Acc: 99.516% | Val Loss: 0.440 | Val Acc: 90.321%\n",
            "epoch:84 | Train Loss: 0.012 | Train Acc: 99.647% | Val Loss: 0.428 | Val Acc: 90.450%\n",
            "epoch:85 | Train Loss: 0.011 | Train Acc: 99.690% | Val Loss: 0.434 | Val Acc: 90.687%\n",
            "epoch:86 | Train Loss: 0.011 | Train Acc: 99.633% | Val Loss: 0.450 | Val Acc: 89.806%\n",
            "epoch:87 | Train Loss: 0.009 | Train Acc: 99.771% | Val Loss: 0.486 | Val Acc: 89.943%\n",
            "epoch:88 | Train Loss: 0.010 | Train Acc: 99.707% | Val Loss: 0.489 | Val Acc: 90.010%\n",
            "epoch:89 | Train Loss: 0.013 | Train Acc: 99.587% | Val Loss: 0.420 | Val Acc: 90.670%\n",
            "epoch:90 | Train Loss: 0.012 | Train Acc: 99.638% | Val Loss: 0.463 | Val Acc: 90.210%\n",
            "epoch:91 | Train Loss: 0.014 | Train Acc: 99.572% | Val Loss: 0.449 | Val Acc: 90.106%\n",
            "epoch:92 | Train Loss: 0.014 | Train Acc: 99.572% | Val Loss: 0.436 | Val Acc: 90.746%\n",
            "epoch:93 | Train Loss: 0.012 | Train Acc: 99.650% | Val Loss: 0.452 | Val Acc: 90.797%\n",
            "epoch:94 | Train Loss: 0.011 | Train Acc: 99.647% | Val Loss: 0.397 | Val Acc: 91.093%\n",
            "epoch:95 | Train Loss: 0.007 | Train Acc: 99.798% | Val Loss: 0.411 | Val Acc: 90.885%\n",
            "epoch:96 | Train Loss: 0.009 | Train Acc: 99.693% | Val Loss: 0.480 | Val Acc: 90.392%\n",
            "epoch:97 | Train Loss: 0.013 | Train Acc: 99.580% | Val Loss: 0.478 | Val Acc: 89.789%\n",
            "epoch:98 | Train Loss: 0.011 | Train Acc: 99.694% | Val Loss: 0.424 | Val Acc: 91.210%\n",
            "epoch:99 | Train Loss: 0.012 | Train Acc: 99.620% | Val Loss: 0.490 | Val Acc: 89.908%\n",
            "epoch:100 | Train Loss: 0.010 | Train Acc: 99.698% | Val Loss: 0.509 | Val Acc: 89.759%\n"
          ]
        }
      ]
    },
    {
      "cell_type": "code",
      "source": [
        "sgd.test(test_iterator)"
      ],
      "metadata": {
        "colab": {
          "base_uri": "https://localhost:8080/"
        },
        "id": "zLI4WWbJu9oB",
        "outputId": "5666c79c-4e26-4901-9423-8ad1d6006481"
      },
      "execution_count": 8,
      "outputs": [
        {
          "output_type": "stream",
          "name": "stdout",
          "text": [
            "Test Loss: 0.416 | Test Acc: 88.398%\n"
          ]
        }
      ]
    },
    {
      "cell_type": "code",
      "source": [
        "model = ResNet([2, 2, 2]).to(device)\n",
        "optimizer = optim.SGD(model.parameters(), lr=LR, momentum=0.9, weight_decay=5e-4)\n",
        "scheduler = torch.optim.lr_scheduler.CosineAnnealingLR(optimizer, T_max=EPOCHS)\n",
        "\n",
        "t = Training(\n",
        "    device = device,\n",
        "    model = model, \n",
        "    optimizer = optimizer, \n",
        "    criterion = criterion,\n",
        "    scheduler = scheduler,\n",
        "    epochs = EPOCHS)\n",
        "\n",
        "t.start_training(train_iterator, valid_iterator, logFileName = 'SGDMR+S')"
      ],
      "metadata": {
        "colab": {
          "base_uri": "https://localhost:8080/"
        },
        "id": "VuO-dgSqmMG5",
        "outputId": "14cc3d07-99e0-4e06-dadd-bb018900d39f"
      },
      "execution_count": null,
      "outputs": [
        {
          "output_type": "stream",
          "name": "stdout",
          "text": [
            "epoch:1 | Train Loss: 2.446 | Train Acc: 20.734% | Val Loss: 1.821 | Val Acc: 32.537%\n",
            "epoch:2 | Train Loss: 1.681 | Train Acc: 37.015% | Val Loss: 1.647 | Val Acc: 39.755%\n",
            "epoch:3 | Train Loss: 1.485 | Train Acc: 45.332% | Val Loss: 1.507 | Val Acc: 44.806%\n",
            "epoch:4 | Train Loss: 1.334 | Train Acc: 51.275% | Val Loss: 1.303 | Val Acc: 52.305%\n",
            "epoch:5 | Train Loss: 1.197 | Train Acc: 56.861% | Val Loss: 1.217 | Val Acc: 56.083%\n",
            "epoch:6 | Train Loss: 1.042 | Train Acc: 62.637% | Val Loss: 1.149 | Val Acc: 59.406%\n",
            "epoch:7 | Train Loss: 0.927 | Train Acc: 67.294% | Val Loss: 1.044 | Val Acc: 63.774%\n",
            "epoch:8 | Train Loss: 0.849 | Train Acc: 70.009% | Val Loss: 0.958 | Val Acc: 67.073%\n",
            "epoch:9 | Train Loss: 0.769 | Train Acc: 73.015% | Val Loss: 0.939 | Val Acc: 67.125%\n",
            "epoch:10 | Train Loss: 0.697 | Train Acc: 75.634% | Val Loss: 0.855 | Val Acc: 70.456%\n",
            "epoch:11 | Train Loss: 0.628 | Train Acc: 78.142% | Val Loss: 0.765 | Val Acc: 73.930%\n",
            "epoch:12 | Train Loss: 0.573 | Train Acc: 80.001% | Val Loss: 0.737 | Val Acc: 74.725%\n",
            "epoch:13 | Train Loss: 0.533 | Train Acc: 81.536% | Val Loss: 0.629 | Val Acc: 78.703%\n",
            "epoch:14 | Train Loss: 0.495 | Train Acc: 82.745% | Val Loss: 0.555 | Val Acc: 80.638%\n",
            "epoch:15 | Train Loss: 0.469 | Train Acc: 83.652% | Val Loss: 0.562 | Val Acc: 81.021%\n",
            "epoch:16 | Train Loss: 0.442 | Train Acc: 84.594% | Val Loss: 0.546 | Val Acc: 81.842%\n",
            "epoch:17 | Train Loss: 0.419 | Train Acc: 85.489% | Val Loss: 0.641 | Val Acc: 78.533%\n",
            "epoch:18 | Train Loss: 0.394 | Train Acc: 86.510% | Val Loss: 0.623 | Val Acc: 79.710%\n",
            "epoch:19 | Train Loss: 0.386 | Train Acc: 86.721% | Val Loss: 0.562 | Val Acc: 81.734%\n",
            "epoch:20 | Train Loss: 0.369 | Train Acc: 87.106% | Val Loss: 0.556 | Val Acc: 81.067%\n",
            "epoch:21 | Train Loss: 0.360 | Train Acc: 87.369% | Val Loss: 0.542 | Val Acc: 81.330%\n",
            "epoch:22 | Train Loss: 0.337 | Train Acc: 88.424% | Val Loss: 0.731 | Val Acc: 77.409%\n",
            "epoch:23 | Train Loss: 0.329 | Train Acc: 88.674% | Val Loss: 0.441 | Val Acc: 84.925%\n",
            "epoch:24 | Train Loss: 0.311 | Train Acc: 89.141% | Val Loss: 0.604 | Val Acc: 81.583%\n",
            "epoch:25 | Train Loss: 0.306 | Train Acc: 89.413% | Val Loss: 0.468 | Val Acc: 84.550%\n",
            "epoch:26 | Train Loss: 0.291 | Train Acc: 90.044% | Val Loss: 0.455 | Val Acc: 84.997%\n",
            "epoch:27 | Train Loss: 0.281 | Train Acc: 90.298% | Val Loss: 0.480 | Val Acc: 83.850%\n",
            "epoch:28 | Train Loss: 0.279 | Train Acc: 90.393% | Val Loss: 0.438 | Val Acc: 85.072%\n",
            "epoch:29 | Train Loss: 0.271 | Train Acc: 90.570% | Val Loss: 0.403 | Val Acc: 86.298%\n",
            "epoch:30 | Train Loss: 0.252 | Train Acc: 91.306% | Val Loss: 0.430 | Val Acc: 85.754%\n",
            "epoch:31 | Train Loss: 0.255 | Train Acc: 91.198% | Val Loss: 0.453 | Val Acc: 85.690%\n",
            "epoch:32 | Train Loss: 0.245 | Train Acc: 91.388% | Val Loss: 0.433 | Val Acc: 84.616%\n",
            "epoch:33 | Train Loss: 0.230 | Train Acc: 92.022% | Val Loss: 0.495 | Val Acc: 84.452%\n",
            "epoch:34 | Train Loss: 0.232 | Train Acc: 91.856% | Val Loss: 0.449 | Val Acc: 84.872%\n",
            "epoch:35 | Train Loss: 0.224 | Train Acc: 92.134% | Val Loss: 0.484 | Val Acc: 84.320%\n",
            "epoch:36 | Train Loss: 0.214 | Train Acc: 92.547% | Val Loss: 0.479 | Val Acc: 84.398%\n",
            "epoch:37 | Train Loss: 0.208 | Train Acc: 92.851% | Val Loss: 0.703 | Val Acc: 79.415%\n",
            "epoch:38 | Train Loss: 0.198 | Train Acc: 93.241% | Val Loss: 0.421 | Val Acc: 86.389%\n",
            "epoch:39 | Train Loss: 0.197 | Train Acc: 93.310% | Val Loss: 0.507 | Val Acc: 83.473%\n",
            "epoch:40 | Train Loss: 0.189 | Train Acc: 93.487% | Val Loss: 0.412 | Val Acc: 86.019%\n",
            "epoch:41 | Train Loss: 0.187 | Train Acc: 93.500% | Val Loss: 0.552 | Val Acc: 82.523%\n",
            "epoch:42 | Train Loss: 0.178 | Train Acc: 93.856% | Val Loss: 0.463 | Val Acc: 85.531%\n",
            "epoch:43 | Train Loss: 0.176 | Train Acc: 93.904% | Val Loss: 0.389 | Val Acc: 87.040%\n",
            "epoch:44 | Train Loss: 0.168 | Train Acc: 94.234% | Val Loss: 0.427 | Val Acc: 86.309%\n",
            "epoch:45 | Train Loss: 0.166 | Train Acc: 94.218% | Val Loss: 0.496 | Val Acc: 83.905%\n",
            "epoch:46 | Train Loss: 0.149 | Train Acc: 94.979% | Val Loss: 0.388 | Val Acc: 87.410%\n",
            "epoch:47 | Train Loss: 0.149 | Train Acc: 94.878% | Val Loss: 0.453 | Val Acc: 84.964%\n",
            "epoch:48 | Train Loss: 0.149 | Train Acc: 94.744% | Val Loss: 0.385 | Val Acc: 87.016%\n",
            "epoch:49 | Train Loss: 0.132 | Train Acc: 95.432% | Val Loss: 0.406 | Val Acc: 87.029%\n",
            "epoch:50 | Train Loss: 0.136 | Train Acc: 95.321% | Val Loss: 0.395 | Val Acc: 87.166%\n",
            "epoch:51 | Train Loss: 0.121 | Train Acc: 95.835% | Val Loss: 0.373 | Val Acc: 87.429%\n",
            "epoch:52 | Train Loss: 0.119 | Train Acc: 95.836% | Val Loss: 0.332 | Val Acc: 89.637%\n",
            "epoch:53 | Train Loss: 0.109 | Train Acc: 96.317% | Val Loss: 0.363 | Val Acc: 88.523%\n",
            "epoch:54 | Train Loss: 0.117 | Train Acc: 95.946% | Val Loss: 0.377 | Val Acc: 88.220%\n",
            "epoch:55 | Train Loss: 0.104 | Train Acc: 96.505% | Val Loss: 0.474 | Val Acc: 85.910%\n",
            "epoch:56 | Train Loss: 0.097 | Train Acc: 96.687% | Val Loss: 0.369 | Val Acc: 88.611%\n",
            "epoch:57 | Train Loss: 0.093 | Train Acc: 96.804% | Val Loss: 0.359 | Val Acc: 89.473%\n",
            "epoch:58 | Train Loss: 0.089 | Train Acc: 96.995% | Val Loss: 0.342 | Val Acc: 89.182%\n",
            "epoch:59 | Train Loss: 0.079 | Train Acc: 97.321% | Val Loss: 0.480 | Val Acc: 86.291%\n",
            "epoch:60 | Train Loss: 0.079 | Train Acc: 97.339% | Val Loss: 0.389 | Val Acc: 88.958%\n",
            "epoch:61 | Train Loss: 0.068 | Train Acc: 97.776% | Val Loss: 0.389 | Val Acc: 88.652%\n",
            "epoch:62 | Train Loss: 0.061 | Train Acc: 98.087% | Val Loss: 0.360 | Val Acc: 89.566%\n",
            "epoch:63 | Train Loss: 0.053 | Train Acc: 98.238% | Val Loss: 0.339 | Val Acc: 90.748%\n",
            "epoch:64 | Train Loss: 0.051 | Train Acc: 98.333% | Val Loss: 0.320 | Val Acc: 90.310%\n",
            "epoch:65 | Train Loss: 0.047 | Train Acc: 98.513% | Val Loss: 0.301 | Val Acc: 90.980%\n",
            "epoch:66 | Train Loss: 0.042 | Train Acc: 98.683% | Val Loss: 0.315 | Val Acc: 90.819%\n",
            "epoch:67 | Train Loss: 0.036 | Train Acc: 99.003% | Val Loss: 0.320 | Val Acc: 90.841%\n",
            "epoch:68 | Train Loss: 0.033 | Train Acc: 99.029% | Val Loss: 0.314 | Val Acc: 90.857%\n",
            "epoch:69 | Train Loss: 0.030 | Train Acc: 99.124% | Val Loss: 0.288 | Val Acc: 91.126%\n",
            "epoch:70 | Train Loss: 0.023 | Train Acc: 99.392% | Val Loss: 0.293 | Val Acc: 91.676%\n",
            "epoch:71 | Train Loss: 0.021 | Train Acc: 99.413% | Val Loss: 0.260 | Val Acc: 92.497%\n",
            "epoch:72 | Train Loss: 0.018 | Train Acc: 99.565% | Val Loss: 0.274 | Val Acc: 92.135%\n",
            "epoch:73 | Train Loss: 0.013 | Train Acc: 99.715% | Val Loss: 0.272 | Val Acc: 92.022%\n",
            "epoch:74 | Train Loss: 0.011 | Train Acc: 99.816% | Val Loss: 0.272 | Val Acc: 92.736%\n",
            "epoch:75 | Train Loss: 0.009 | Train Acc: 99.845% | Val Loss: 0.254 | Val Acc: 93.022%\n",
            "epoch:76 | Train Loss: 0.007 | Train Acc: 99.920% | Val Loss: 0.246 | Val Acc: 92.653%\n",
            "epoch:77 | Train Loss: 0.007 | Train Acc: 99.916% | Val Loss: 0.242 | Val Acc: 92.931%\n",
            "epoch:78 | Train Loss: 0.005 | Train Acc: 99.936% | Val Loss: 0.229 | Val Acc: 93.441%\n",
            "epoch:79 | Train Loss: 0.005 | Train Acc: 99.940% | Val Loss: 0.240 | Val Acc: 92.992%\n",
            "epoch:80 | Train Loss: 0.004 | Train Acc: 99.967% | Val Loss: 0.245 | Val Acc: 92.799%\n",
            "epoch:81 | Train Loss: 0.004 | Train Acc: 99.964% | Val Loss: 0.235 | Val Acc: 93.441%\n",
            "epoch:82 | Train Loss: 0.004 | Train Acc: 99.984% | Val Loss: 0.229 | Val Acc: 93.649%\n",
            "epoch:83 | Train Loss: 0.003 | Train Acc: 99.984% | Val Loss: 0.229 | Val Acc: 93.382%\n",
            "epoch:84 | Train Loss: 0.003 | Train Acc: 99.993% | Val Loss: 0.238 | Val Acc: 93.328%\n",
            "epoch:85 | Train Loss: 0.003 | Train Acc: 99.989% | Val Loss: 0.229 | Val Acc: 93.436%\n",
            "epoch:86 | Train Loss: 0.003 | Train Acc: 99.989% | Val Loss: 0.238 | Val Acc: 92.970%\n",
            "epoch:87 | Train Loss: 0.003 | Train Acc: 99.993% | Val Loss: 0.233 | Val Acc: 93.612%\n",
            "epoch:88 | Train Loss: 0.003 | Train Acc: 99.996% | Val Loss: 0.228 | Val Acc: 93.400%\n",
            "epoch:89 | Train Loss: 0.003 | Train Acc: 99.991% | Val Loss: 0.218 | Val Acc: 93.634%\n",
            "epoch:90 | Train Loss: 0.003 | Train Acc: 99.996% | Val Loss: 0.233 | Val Acc: 93.336%\n",
            "epoch:91 | Train Loss: 0.003 | Train Acc: 99.998% | Val Loss: 0.220 | Val Acc: 93.729%\n",
            "epoch:92 | Train Loss: 0.003 | Train Acc: 99.993% | Val Loss: 0.225 | Val Acc: 93.539%\n",
            "epoch:93 | Train Loss: 0.003 | Train Acc: 99.993% | Val Loss: 0.223 | Val Acc: 93.380%\n",
            "epoch:94 | Train Loss: 0.003 | Train Acc: 99.998% | Val Loss: 0.226 | Val Acc: 93.636%\n",
            "epoch:95 | Train Loss: 0.003 | Train Acc: 99.993% | Val Loss: 0.228 | Val Acc: 93.421%\n",
            "epoch:96 | Train Loss: 0.003 | Train Acc: 99.996% | Val Loss: 0.231 | Val Acc: 93.458%\n",
            "epoch:97 | Train Loss: 0.003 | Train Acc: 99.996% | Val Loss: 0.231 | Val Acc: 93.649%\n",
            "epoch:98 | Train Loss: 0.002 | Train Acc: 99.998% | Val Loss: 0.228 | Val Acc: 93.500%\n",
            "epoch:99 | Train Loss: 0.003 | Train Acc: 99.997% | Val Loss: 0.228 | Val Acc: 93.686%\n",
            "epoch:100 | Train Loss: 0.003 | Train Acc: 99.989% | Val Loss: 0.221 | Val Acc: 93.795%\n"
          ]
        }
      ]
    },
    {
      "cell_type": "code",
      "source": [
        "t.test(test_iterator)"
      ],
      "metadata": {
        "id": "7FQjtdtamUm4",
        "colab": {
          "base_uri": "https://localhost:8080/"
        },
        "outputId": "1ea9332f-53c4-4b52-8f22-e4f25e7c9d59"
      },
      "execution_count": null,
      "outputs": [
        {
          "output_type": "stream",
          "name": "stdout",
          "text": [
            "Test Loss: 0.225 | Test Acc: 94.014%\n"
          ]
        }
      ]
    },
    {
      "cell_type": "markdown",
      "source": [
        "## Plot Result"
      ],
      "metadata": {
        "id": "DRInHpYph0SL"
      }
    },
    {
      "cell_type": "code",
      "source": [
        "with open('SGD_01', 'r') as f:\n",
        "  lines = f.readlines()\n",
        "\n",
        "sgd_01_acc = []\n",
        "sgd_01_loss = []\n",
        "for line in lines:\n",
        "  _, a, b, c, d = line.strip().split(\",\")\n",
        "  sgd_01_acc.append(float(d))\n",
        "  sgd_01_loss.append(float(c))\n",
        "\n",
        "with open('SGD_001.txt', 'r') as f:\n",
        "  lines = f.readlines()\n",
        "\n",
        "sgd_001_acc = []\n",
        "sgd_001_loss = []\n",
        "for line in lines:\n",
        "  _, a, b, c, d = line.strip().split(\",\")\n",
        "  sgd_001_acc.append(float(d))\n",
        "  sgd_001_loss.append(float(c))"
      ],
      "metadata": {
        "id": "AU0VuRC_b21g"
      },
      "execution_count": 5,
      "outputs": []
    },
    {
      "cell_type": "code",
      "source": [
        "figure = plt.figure(figsize=(10, 8))\n",
        "epochs = range(1, 101)\n",
        "plt.plot(epochs, sgd.val_acc_list, 'r', label=\"lr=0.1\")\n",
        "plt.plot(epochs, sgd_01_acc, 'g', label=\"lr=0.01\")\n",
        "plt.plot(epochs, sgd_001_acc, 'b', label=\"lr=0.001\")\n",
        "plt.legend()\n",
        "plt.show()"
      ],
      "metadata": {
        "id": "fyye89TybqxS",
        "colab": {
          "base_uri": "https://localhost:8080/",
          "height": 483
        },
        "outputId": "876b9a6f-3966-4603-8ea4-f66b958494b3"
      },
      "execution_count": 9,
      "outputs": [
        {
          "output_type": "display_data",
          "data": {
            "text/plain": [
              "<Figure size 720x576 with 1 Axes>"
            ],
            "image/png": "[encoded data removed]"
          },
          "metadata": {
            "needs_background": "light"
          }
        }
      ]
    },
    {
      "cell_type": "code",
      "source": [
        "figure = plt.figure(figsize=(10, 8))\n",
        "epochs = range(1, 101)\n",
        "plt.plot(epochs, sgd.val_loss_list, 'r', label=\"lr=0.1\")\n",
        "plt.plot(epochs, sgd_01_loss, 'g', label=\"lr=0.01\")\n",
        "plt.plot(epochs, sgd_001_loss, 'b', label=\"lr=0.001\")\n",
        "plt.legend()\n",
        "plt.show()"
      ],
      "metadata": {
        "id": "LhCHqYQadKmP",
        "colab": {
          "base_uri": "https://localhost:8080/",
          "height": 483
        },
        "outputId": "c5823056-a16b-483c-ef24-74490200ac77"
      },
      "execution_count": 10,
      "outputs": [
        {
          "output_type": "display_data",
          "data": {
            "text/plain": [
              "<Figure size 720x576 with 1 Axes>"
            ],
            "image/png": "[encoded data removed]"
          },
          "metadata": {
            "needs_background": "light"
          }
        }
      ]
    },
    {
      "cell_type": "code",
      "source": [
        "t.plot_acc()"
      ],
      "metadata": {
        "id": "cTLWY9ich4Th",
        "colab": {
          "base_uri": "https://localhost:8080/",
          "height": 265
        },
        "outputId": "38692155-3238-4498-95e1-5f19b0c19cd1"
      },
      "execution_count": null,
      "outputs": [
        {
          "output_type": "display_data",
          "data": {
            "text/plain": [
              "<Figure size 432x288 with 1 Axes>"
            ],
            "image/png": "[encoded data removed]"
          },
          "metadata": {
            "needs_background": "light"
          }
        }
      ]
    },
    {
      "cell_type": "code",
      "source": [
        "t.plot_loss()"
      ],
      "metadata": {
        "id": "22nKL1Otn-zG",
        "colab": {
          "base_uri": "https://localhost:8080/",
          "height": 265
        },
        "outputId": "6407e837-7525-404b-df23-8dc7f78a4138"
      },
      "execution_count": null,
      "outputs": [
        {
          "output_type": "display_data",
          "data": {
            "text/plain": [
              "<Figure size 432x288 with 1 Axes>"
            ],
            "image/png": "[encoded data removed]"
          },
          "metadata": {
            "needs_background": "light"
          }
        }
      ]
    },
    {
      "cell_type": "code",
      "source": [],
      "metadata": {
        "id": "gbeS98jconEy"
      },
      "execution_count": null,
      "outputs": []
    }
  ]
}